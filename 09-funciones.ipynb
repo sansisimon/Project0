{
 "cells": [
  {
   "cell_type": "markdown",
   "metadata": {},
   "source": [
    "\n",
    "<div style=\"text-align: center;\">\n",
    "  <img src=\"https://github.com/Hack-io-Data/Imagenes/blob/main/01-LogosHackio/logo_celeste@4x.png?raw=true\" alt=\"esquema\" />\n",
    "</div>"
   ]
  },
  {
   "cell_type": "markdown",
   "metadata": {},
   "source": [
    "#### 1. Escribe una función sin parámetros que imprima el siguiente mensaje \"¡Hola! Bienvenido.\"\n"
   ]
  },
  {
   "cell_type": "code",
   "execution_count": null,
   "metadata": {},
   "outputs": [
    {
     "name": "stdout",
     "output_type": "stream",
     "text": [
      "¡Hola! Bienvenido\n"
     ]
    }
   ],
   "source": [
    "def saludo ():\n",
    "    print('¡Hola! Bienvenido.')\n",
    "\n",
    "saludo()"
   ]
  },
  {
   "cell_type": "markdown",
   "metadata": {},
   "source": [
    "#### 2. Escribe una función que reciba dos parámetros y devuelva la suma de ambos.\n"
   ]
  },
  {
   "cell_type": "code",
   "execution_count": 125,
   "metadata": {},
   "outputs": [],
   "source": [
    "def suma (a,b):\n",
    "    \"\"\"suma función que recibe dos parámetros y devuelve la suma de ambos\n",
    "\n",
    "    Arguments:\n",
    "        a {int} -- elemento 1 de la suma\n",
    "        b {int} -- elemento 2 de la suma\n",
    "\n",
    "    Returns:\n",
    "        int -- suma de elemento 1 y elemento 2\n",
    "    \"\"\"\n",
    "    resultado = a + b\n",
    "    return resultado"
   ]
  },
  {
   "cell_type": "code",
   "execution_count": 126,
   "metadata": {},
   "outputs": [
    {
     "name": "stdout",
     "output_type": "stream",
     "text": [
      "14\n"
     ]
    }
   ],
   "source": [
    "#ejemplo\n",
    "resultado_suma = suma(10,4)\n",
    "print(resultado_suma)"
   ]
  },
  {
   "cell_type": "markdown",
   "metadata": {},
   "source": [
    "#### 3. Escribe una función que reciba un número y devuelva True si es par, False si no lo es."
   ]
  },
  {
   "cell_type": "code",
   "execution_count": 122,
   "metadata": {},
   "outputs": [],
   "source": [
    "def funcion_par(x):\n",
    "    \"\"\"funcion_par funcion que devuelve True si el numero introducido es par y False si no lo es\n",
    "\n",
    "    Arguments:\n",
    "        x {int} -- numero introducido para saber si es par o impar\n",
    "\n",
    "    Returns:\n",
    "        bool -- categoría de numero introducido (par o impar)\n",
    "    \"\"\"\n",
    "    if x % 2 == 0:\n",
    "        return True\n",
    "    else:\n",
    "        return False"
   ]
  },
  {
   "cell_type": "code",
   "execution_count": 123,
   "metadata": {},
   "outputs": [
    {
     "name": "stdout",
     "output_type": "stream",
     "text": [
      "¿es par el número 3? False\n",
      "¿es par el número 6? True\n"
     ]
    }
   ],
   "source": [
    "#ejemplo\n",
    "print(f'¿es par el número 3? {funcion_par(3)}')\n",
    "print(f'¿es par el número 6? {funcion_par(6)}')"
   ]
  },
  {
   "cell_type": "markdown",
   "metadata": {},
   "source": [
    "#### 4. Escribe un función que devuelva un saludo personalizado a una persona dado su nombre. \n"
   ]
  },
  {
   "cell_type": "code",
   "execution_count": 38,
   "metadata": {},
   "outputs": [
    {
     "name": "stdout",
     "output_type": "stream",
     "text": [
      "¡Hola Luis! Bienvenidx a Python :)\n"
     ]
    }
   ],
   "source": [
    "def saludo(nombre):\n",
    "    \"\"\"saludo funcion que devuelve un saludo personalizado a una persona, dado su nombre\n",
    "\n",
    "    Arguments:\n",
    "        nombre {str} -- nombre introducido para que la función personalice el saludo\n",
    "    \"\"\"\n",
    "    print(f'¡Hola {nombre}! Bienvenidx a Python :)')\n",
    "\n",
    "\n",
    "#ejemplo\n",
    "saludinchi = saludo('Luis')\n",
    "saludinchi"
   ]
  },
  {
   "cell_type": "markdown",
   "metadata": {},
   "source": [
    "#### 5. Escribe una función que sume todos los números que reciba como argumento. La función debe recibir una cantidad variable de argumentos y devolver la suma de todos ellos."
   ]
  },
  {
   "cell_type": "code",
   "execution_count": 127,
   "metadata": {},
   "outputs": [],
   "source": [
    "def sumatorio(*args):\n",
    "    \"\"\"sumatorio: función que suma todos los números que reciba como argumento.\n",
    "\n",
    "    Returns:\n",
    "        int -- suma de todos los numeros introducidos como argumento.\n",
    "    \"\"\"\n",
    "    suma = 0\n",
    "    for i in args:\n",
    "        suma += i\n",
    "    return suma"
   ]
  },
  {
   "cell_type": "code",
   "execution_count": 128,
   "metadata": {},
   "outputs": [
    {
     "name": "stdout",
     "output_type": "stream",
     "text": [
      "la suma de todos los numeros (1,3,5,7,9) = 25\n",
      "la suma de todos los numeros (2,4,6,8,10) = 30\n"
     ]
    }
   ],
   "source": [
    "#ejemplo1:\n",
    "suma1 = sumatorio(1,3,5,7,9)\n",
    "print(f'la suma de todos los numeros (1,3,5,7,9) = {suma1}')\n",
    "\n",
    "#ejemplo2:\n",
    "suma2 = sumatorio(2,4,6,8,10)\n",
    "print(f'la suma de todos los numeros (2,4,6,8,10) = {suma2}')"
   ]
  },
  {
   "cell_type": "markdown",
   "metadata": {},
   "source": [
    "#### 6. Escribe una función que cuente las letras de una palabra y devuelva un diccionario con la cantidad de veces que se repite cada letra \n"
   ]
  },
  {
   "cell_type": "code",
   "execution_count": 129,
   "metadata": {},
   "outputs": [],
   "source": [
    "def repeticion(palabra):\n",
    "    \"\"\"repeticion: funcion que devuelve un diccionario (key-value) con la cantidad de veces (value) que se repite \n",
    "    cada letra (key) de la palabra dada.\n",
    "\n",
    "    Arguments:\n",
    "        palabra {str} -- palabra que se pretende analizar\n",
    "\n",
    "    Returns:\n",
    "        dict -- diccionario cuya KEY = cada letra de la palabra y el VALUE es la cantidad de veces que se repite la letra dentro de la palabra.\n",
    "                OJO: no puede haber dos KEYs iguales, el programa no las tolera. En caso de repetición, a nosotros nos facilita el trabajo, porque\n",
    "                nunca va a haber dos keys repetidas y para nosotros es mejor porque evita confusión.\n",
    "    \"\"\"\n",
    "    lista_letras = [str for str in palabra]\n",
    "    coincidencias = []\n",
    "\n",
    "    for letra in lista_letras:\n",
    "        resultado = lista_letras.count(letra)\n",
    "        coincidencias.append(resultado)\n",
    "        diccionario = dict(zip(lista_letras,coincidencias))\n",
    "        \n",
    "    return print(diccionario)"
   ]
  },
  {
   "cell_type": "code",
   "execution_count": 130,
   "metadata": {},
   "outputs": [
    {
     "name": "stdout",
     "output_type": "stream",
     "text": [
      "{'g': 1, 'u': 1, 'i': 1, 't': 1, 'a': 2, 'r': 2}\n"
     ]
    }
   ],
   "source": [
    "#ejemplo:\n",
    "palabra = repeticion('guitarra') "
   ]
  },
  {
   "cell_type": "markdown",
   "metadata": {},
   "source": [
    "#### 7. Escribe un función recursiva para calcular el factorial de un número entero no negativo."
   ]
  },
  {
   "cell_type": "code",
   "execution_count": 131,
   "metadata": {},
   "outputs": [],
   "source": [
    "#El factorial de un número entero positivo se define como el producto de todos los números naturales anteriores o iguales a él.\n",
    "\n",
    "def factorial(n):\n",
    "    \"\"\"factorial : es una funcion recursiva para calcular el factorial de un número entero no negativo.\n",
    "\n",
    "    Arguments:\n",
    "        n {int} -- número entero positivo del que se pretende calcular el factorial\n",
    "\n",
    "    Returns:\n",
    "        int -- factorial del número positivo analizado\n",
    "    \"\"\"\n",
    "    if n == 0 or n == 1:\n",
    "        resultado = 1\n",
    "    elif n > 1:\n",
    "        resultado = n * factorial(n - 1)\n",
    "    return resultado"
   ]
  },
  {
   "cell_type": "code",
   "execution_count": 132,
   "metadata": {},
   "outputs": [
    {
     "name": "stdout",
     "output_type": "stream",
     "text": [
      "El factorial de \"11\" es \"39916800\n",
      "El factorial de \"6\" es \"720\n"
     ]
    }
   ],
   "source": [
    "#Ejemplo 1:\n",
    "f_11 = factorial(11)\n",
    "print(f'El factorial de \"11\" es \"{f_11}')\n",
    "\n",
    "#Ejemplo 2:\n",
    "f_6 = factorial(6)\n",
    "print(f'El factorial de \"6\" es \"{f_6}')"
   ]
  },
  {
   "cell_type": "markdown",
   "metadata": {},
   "source": [
    "#### 8. Escribe una función que tome dos parámetros: `figura` (una cadena que puede ser `\"rectangulo\"`, `\"circulo\"` o `\"triangulo\"`) y `datos` (una tupla con los datos necesarios para calcular el área de la figura). "
   ]
  },
  {
   "cell_type": "code",
   "execution_count": 133,
   "metadata": {},
   "outputs": [],
   "source": [
    "def area_figura (figura, datos):\n",
    "    \"\"\"area_figura : funcion que calcula el area de una figura en función de los datos proporcionados\n",
    "\n",
    "    Arguments:\n",
    "        figura {string} -- tipo de figura\n",
    "        datos {int} -- datos necesarios para calcular el área de la figura\n",
    "    \"\"\"\n",
    "    for i,g in zip(figura,datos):\n",
    "        if i == 'rectangulo':\n",
    "            area = g[0] * g[1]\n",
    "            print(f'el area de \"{i}\" es \"{area}\" metros cuadrados')\n",
    "        elif i == 'circulo':\n",
    "            area = 3.14159 * g[0] ** 2\n",
    "            print(f'el area de \"{i}\" es \"{area}\" metros cuadrados')\n",
    "        elif i == 'triangulo':\n",
    "            area = (g[0] * g[1]) // 2\n",
    "            print(f'el area del \"{i}\" es \"{area}\" metros cuadrados')\n",
    "        else: \n",
    "            print(f'figura no contemplada: {i}')\n",
    "    "
   ]
  },
  {
   "cell_type": "code",
   "execution_count": 134,
   "metadata": {},
   "outputs": [
    {
     "name": "stdout",
     "output_type": "stream",
     "text": [
      "el area de \"rectangulo\" es \"6\" metros cuadrados\n",
      "el area de \"circulo\" es \"78.53975\" metros cuadrados\n",
      "el area del \"triangulo\" es \"4\" metros cuadrados\n"
     ]
    }
   ],
   "source": [
    "# Ejemplo:\n",
    "figura_ej = ['rectangulo', 'circulo', 'triangulo']\n",
    "datos_ej = [(3,2), (5,0), (2,4)]\n",
    "\n",
    "area_figura(figura_ej,datos_ej)"
   ]
  },
  {
   "cell_type": "markdown",
   "metadata": {},
   "source": [
    "#### 9. Escribe una función que tome una lista de números como parámetro y devuelva el número más grande de la lista. No utilices la función `max()` de Python en tu solución."
   ]
  },
  {
   "cell_type": "code",
   "execution_count": 139,
   "metadata": {},
   "outputs": [],
   "source": [
    "def num_grande (lista):\n",
    "    lista.sort(reverse=True)\n",
    "    print(f'el número más grande de la lista es: \"{lista[0]}\"')"
   ]
  },
  {
   "cell_type": "code",
   "execution_count": 141,
   "metadata": {},
   "outputs": [
    {
     "name": "stdout",
     "output_type": "stream",
     "text": [
      "el número más grande de la lista es: \"532\"\n"
     ]
    }
   ],
   "source": [
    "#Ejemplo:\n",
    "lista = [5,92,7,8,532,10,11,0,13,14,15,17,18,320]\n",
    "num_grande(lista)"
   ]
  },
  {
   "cell_type": "markdown",
   "metadata": {},
   "source": [
    "#### 10. Escribe una función que tome una cadena como parámetro un texto y devuelva `True` si la cadena es un palíndromo (se lee igual de izquierda a derecha que de derecha a izquierda), y `False` en caso contrario. Ignora los espacios y considera mayúsculas y minúsculas de manera insensible.\n"
   ]
  },
  {
   "cell_type": "code",
   "execution_count": null,
   "metadata": {},
   "outputs": [],
   "source": [
    "# Palíndromo : Palabra o frase cuyas letras están dispuestas de tal manera que resulta la misma leída de \n",
    "# izquierda a derecha que de derecha a izquierda.\n"
   ]
  },
  {
   "cell_type": "code",
   "execution_count": null,
   "metadata": {},
   "outputs": [],
   "source": [
    "def es_palindromo (texto):\n",
    "    \"\"\"es_palindromo : función que a partir de un string como parámetro devuelve True si el string es un palíndromo y False en caso contrario.\n",
    "\n",
    "    Arguments:\n",
    "        texto {str} -- string del que queremos averiguar si es un palíndromo o no.\n",
    "\n",
    "    Returns:\n",
    "        bool -- devuelve True si \"texto\" es un palíndromo y False en caso contario.\n",
    "    \"\"\"\n",
    "    texto1 = texto.lower()\n",
    "    texto_sin_espacios = texto1.replace(\" \", \"\")\n",
    "    texto_sin_puntuacion = texto_sin_espacios.replace(\",\", \"\")\n",
    "    texto_def = texto_sin_puntuacion.replace(\".\", \"\")\n",
    "    lista = list(texto_def)\n",
    "    print(lista)\n",
    "    lista2 = lista.copy()\n",
    "    lista2.reverse()\n",
    "    print(lista2)\n",
    "\n",
    "    for i, g in zip(lista,lista2):\n",
    "        if i == g:\n",
    "            return True\n",
    "        else:\n",
    "            return False\n",
    "        "
   ]
  },
  {
   "cell_type": "code",
   "execution_count": 174,
   "metadata": {},
   "outputs": [
    {
     "name": "stdout",
     "output_type": "stream",
     "text": [
      "['i', 's', 'a', 'a', 'c', 'n', 'o', 'r', 'o', 'n', 'c', 'a', 'a', 's', 'i']\n",
      "['i', 's', 'a', 'a', 'c', 'n', 'o', 'r', 'o', 'n', 'c', 'a', 'a', 's', 'i']\n",
      "¿la string \"Isaac no ronca asi.\" es un palíndromo? True\n",
      "-----------------------------------\n",
      "['s', 'o', 'm', 'o', 's', 'o', 'n', 'o', 's', 'o', 'm', 'o', 's']\n",
      "['s', 'o', 'm', 'o', 's', 'o', 'n', 'o', 's', 'o', 'm', 'o', 's']\n",
      "¿la string \"Somos... o NO somos\" es un palíndromo? True\n",
      "-----------------------------------\n",
      "['h', 'o', 'l', 'a', 'a', 'm', 'i', 'g', 'u', 'i', 'n', 'c', 'h', 'i', 's']\n",
      "['s', 'i', 'h', 'c', 'n', 'i', 'u', 'g', 'i', 'm', 'a', 'a', 'l', 'o', 'h']\n",
      "¿la string \"Hola, amiguinchis.\" es un palíndromo? False\n"
     ]
    }
   ],
   "source": [
    "#ejemplo1:\n",
    "texto_ej1 = 'Isaac no ronca asi.'\n",
    "print(f'¿la string \"{texto_ej1}\" es un palíndromo? {es_palindromo(texto_ej1)}')\n",
    "print('-----------------------------------')\n",
    "#ejemplo2:\n",
    "texto_ej2 = 'Somos... o NO somos'\n",
    "print(f'¿la string \"{texto_ej2}\" es un palíndromo? {es_palindromo(texto_ej2)}')\n",
    "print('-----------------------------------')\n",
    "#ejemplo3:\n",
    "texto_ej3 = 'Hola, amiguinchis.'\n",
    "print(f'¿la string \"{texto_ej3}\" es un palíndromo? {es_palindromo(texto_ej3)}')\n"
   ]
  },
  {
   "cell_type": "markdown",
   "metadata": {},
   "source": [
    "#### 11. Escribe una función que tome una cadena como parámetro y devuelva dos valores: la cantidad de vocales y la cantidad de consonantes presentes en la cadena. Ignora los espacios y considera mayúsculas y minúsculas de manera insensible.\n"
   ]
  },
  {
   "cell_type": "code",
   "execution_count": null,
   "metadata": {},
   "outputs": [],
   "source": [
    "def vocal_consonante (texto):\n",
    "    \"\"\"vocal_consonante : función que toma un string como parámetro y devuelve:\n",
    "      (i) la cantidad de vocales del string y (ii) la cantidad de consonantes del string.\n",
    "\n",
    "    Arguments:\n",
    "        texto {str} -- frase o palabra insertada para analizar el número de vocales y consonantes.\n",
    "    \"\"\"\n",
    "    texto1 = texto.lower()\n",
    "    texto_sin_espacios = texto1.replace(\" \", \"\")\n",
    "    texto_sin_puntuacion = texto_sin_espacios.replace(\",\", \"\")\n",
    "    texto_def = texto_sin_puntuacion.replace(\".\", \"\")\n",
    "    lista = list(texto_def)\n",
    "    vocales = []\n",
    "    consonantes = []\n",
    "\n",
    "    for letra in lista:\n",
    "        if letra == 'a' or letra == 'e' or letra == 'i' or letra == 'o' or letra == 'u':\n",
    "            vocales.append(letra)\n",
    "        else:\n",
    "            consonantes.append(letra)\n",
    "    \n",
    "    print(f'el texto insertado tiene \"{len(vocales)}\" vocales.')\n",
    "    print(f'el texto insertado tiene \"{len(consonantes)}\" consonantes.')\n",
    "\n"
   ]
  },
  {
   "cell_type": "code",
   "execution_count": 181,
   "metadata": {},
   "outputs": [
    {
     "name": "stdout",
     "output_type": "stream",
     "text": [
      "Mi ordenador es muy antiguo.\n",
      "el texto insertado tiene \"11\" vocales.\n",
      "el texto insertado tiene \"12\" consonantes.\n",
      "-----------------------------------\n",
      "Holiwinski.\n",
      "el texto insertado tiene \"4\" vocales.\n",
      "el texto insertado tiene \"6\" consonantes.\n",
      "-----------------------------------\n"
     ]
    }
   ],
   "source": [
    "#Ejemplo 1:\n",
    "texto_ejemplo1 = 'Mi ordenador es muy antiguo.'\n",
    "print(texto_ejemplo1)\n",
    "vocal_consonante(texto_ejemplo1)\n",
    "print('-----------------------------------')\n",
    "\n",
    "#Ejemplo 2:\n",
    "texto_ejemplo2 = 'Holiwinski.'\n",
    "print(texto_ejemplo2)\n",
    "vocal_consonante(texto_ejemplo2)\n",
    "print('-----------------------------------')"
   ]
  }
 ],
 "metadata": {
  "kernelspec": {
   "display_name": "Python 3",
   "language": "python",
   "name": "python3"
  },
  "language_info": {
   "codemirror_mode": {
    "name": "ipython",
    "version": 3
   },
   "file_extension": ".py",
   "mimetype": "text/x-python",
   "name": "python",
   "nbconvert_exporter": "python",
   "pygments_lexer": "ipython3",
   "version": "3.9.6"
  }
 },
 "nbformat": 4,
 "nbformat_minor": 2
}
