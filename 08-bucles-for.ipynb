{
 "cells": [
  {
   "cell_type": "markdown",
   "metadata": {},
   "source": [
    "<div style=\"text-align: center;\">\n",
    "  <img src=\"https://github.com/Hack-io-Data/Imagenes/blob/main/01-LogosHackio/logo_celeste@4x.png?raw=true\" alt=\"logo hack(io)\" />\n",
    "</div>"
   ]
  },
  {
   "cell_type": "markdown",
   "metadata": {},
   "source": [
    "####  1. Genera una lista de números del 0 al 4 y luego imprime cada número en la lista usando un `bucle for`. "
   ]
  },
  {
   "cell_type": "code",
   "execution_count": 5,
   "metadata": {},
   "outputs": [
    {
     "name": "stdout",
     "output_type": "stream",
     "text": [
      "en la lista \"numeros\" este es el número: 0\n",
      "en la lista \"numeros\" este es el número: 1\n",
      "en la lista \"numeros\" este es el número: 2\n",
      "en la lista \"numeros\" este es el número: 3\n",
      "en la lista \"numeros\" este es el número: 4\n"
     ]
    }
   ],
   "source": [
    "numeros = [0,1,2,3,4]\n",
    "\n",
    "for num in numeros:\n",
    "    print('en la lista \"numeros\" este es el número:', num)"
   ]
  },
  {
   "cell_type": "markdown",
   "metadata": {},
   "source": [
    "#### 2. Itera sobre una lista de frutas y muestra cada fruta en mayúsculas. \n"
   ]
  },
  {
   "cell_type": "code",
   "execution_count": 7,
   "metadata": {},
   "outputs": [
    {
     "name": "stdout",
     "output_type": "stream",
     "text": [
      "en la lista \"frutas\" esta es la fruta: MANZANA\n",
      "en la lista \"frutas\" esta es la fruta: PERA\n",
      "en la lista \"frutas\" esta es la fruta: ALBARICOQUE\n",
      "en la lista \"frutas\" esta es la fruta: ARÁNDANO\n",
      "en la lista \"frutas\" esta es la fruta: KAKI\n",
      "en la lista \"frutas\" esta es la fruta: FRESA\n"
     ]
    }
   ],
   "source": [
    "frutas = ['manzana', 'pera', 'albaricoque', 'arándano','kaki', 'fresa']\n",
    "for fruta in frutas:\n",
    "    print('en la lista \"frutas\" esta es la fruta:', fruta.upper())"
   ]
  },
  {
   "cell_type": "markdown",
   "metadata": {},
   "source": [
    "####  3. Genera un bucle while que imprima los números del 0 al 4. \n"
   ]
  },
  {
   "cell_type": "code",
   "execution_count": 29,
   "metadata": {},
   "outputs": [
    {
     "name": "stdout",
     "output_type": "stream",
     "text": [
      "imprime el número: 0\n",
      "imprime el número: 1\n",
      "imprime el número: 2\n",
      "imprime el número: 3\n",
      "imprime el número: 4\n"
     ]
    }
   ],
   "source": [
    "numero = 0\n",
    "contador= 5\n",
    "\n",
    "while contador > numero:\n",
    "    print('imprime el número:', numero)\n",
    "    numero += 1"
   ]
  },
  {
   "cell_type": "markdown",
   "metadata": {},
   "source": [
    "#### 4. Genera un bucle del 0 al 9, pero que se detenga en el 5.\n"
   ]
  },
  {
   "cell_type": "code",
   "execution_count": 30,
   "metadata": {},
   "outputs": [
    {
     "name": "stdout",
     "output_type": "stream",
     "text": [
      "imprime el número: 0\n",
      "imprime el número: 1\n",
      "imprime el número: 2\n",
      "imprime el número: 3\n",
      "imprime el número: 4\n",
      "el bucle se acaba en el 5\n"
     ]
    }
   ],
   "source": [
    "numero = 0\n",
    "contador= 10\n",
    "\n",
    "while contador > numero:\n",
    "    print('imprime el número:', numero)\n",
    "    numero += 1\n",
    "    if numero >= 5:\n",
    "        print('el bucle se acaba en el', numero)\n",
    "        break\n",
    "      "
   ]
  },
  {
   "cell_type": "markdown",
   "metadata": {},
   "source": [
    "#### 5. Recorre los números del 0 al 9 e imprime solo los números impares."
   ]
  },
  {
   "cell_type": "code",
   "execution_count": 41,
   "metadata": {},
   "outputs": [
    {
     "name": "stdout",
     "output_type": "stream",
     "text": [
      "imprime el número: 1\n",
      "imprime el número: 3\n",
      "imprime el número: 5\n",
      "imprime el número: 7\n",
      "imprime el número: 9\n"
     ]
    }
   ],
   "source": [
    "numero = 0\n",
    "contador = 10\n",
    "\n",
    "while contador > numero:\n",
    "        if numero % 2 != 0:\n",
    "            print('imprime el número:', numero)\n",
    "            numero += 1\n",
    "        else:\n",
    "            numero += 1  "
   ]
  },
  {
   "cell_type": "markdown",
   "metadata": {},
   "source": [
    "#### 6. Dada la lista `[10, 20, 30, 40, 50]`, calcula la suma de todos los elementos usando un bucle `for`."
   ]
  },
  {
   "cell_type": "code",
   "execution_count": 45,
   "metadata": {},
   "outputs": [
    {
     "name": "stdout",
     "output_type": "stream",
     "text": [
      "Cogemos \"10\" y lo sumamos al total \"0\"\n",
      " el resultado es: 10\n",
      "-----------------------\n",
      "Cogemos \"20\" y lo sumamos al total \"10\"\n",
      " el resultado es: 30\n",
      "-----------------------\n",
      "Cogemos \"30\" y lo sumamos al total \"30\"\n",
      " el resultado es: 60\n",
      "-----------------------\n",
      "Cogemos \"40\" y lo sumamos al total \"60\"\n",
      " el resultado es: 100\n",
      "-----------------------\n",
      "Cogemos \"50\" y lo sumamos al total \"100\"\n",
      " el resultado es: 150\n",
      "-----------------------\n"
     ]
    }
   ],
   "source": [
    "lista = [10, 20, 30, 40, 50]\n",
    "total = 0\n",
    "\n",
    "for num in lista:\n",
    "    print(f'Cogemos \"{num}\" y lo sumamos al total \"{total}\"')\n",
    "    total += num\n",
    "    print (' el resultado es:', total)\n",
    "    print('-----------------------')"
   ]
  },
  {
   "cell_type": "markdown",
   "metadata": {},
   "source": [
    "#### 7. Dada la cadena `\"Hola mundo\"`, cuenta cuántas veces aparecen las vocales (`a`, `e`, `i`, `o`, `u`) usando un bucle `for`.\n"
   ]
  },
  {
   "cell_type": "code",
   "execution_count": 48,
   "metadata": {},
   "outputs": [
    {
     "name": "stdout",
     "output_type": "stream",
     "text": [
      "Recuento: \n",
      "\n",
      "la letra \"a\" ha salido 1 veces\n",
      "la letra \"e\" ha salido 0 veces\n",
      "la letra \"i\" ha salido 0 veces\n",
      "la letra \"o\" ha salido 2 veces\n",
      "la letra \"u\" ha salido 1 veces\n"
     ]
    }
   ],
   "source": [
    "cadena = 'Hola Mundo'\n",
    "lista_a = []\n",
    "lista_e = []\n",
    "lista_i = []\n",
    "lista_o = []\n",
    "lista_u = []\n",
    "\n",
    "for letra in cadena:\n",
    "    if letra == 'a':\n",
    "        lista_a.append('letra')\n",
    "    elif letra == 'e':\n",
    "        lista_e.append('letra')\n",
    "    elif letra == 'i':\n",
    "        lista_i.append('letra')\n",
    "    elif letra == 'o':\n",
    "        lista_o.append('letra')\n",
    "    elif letra == 'u':\n",
    "        lista_u.append('letra')\n",
    "\n",
    "\n",
    "print('Recuento: \\n')\n",
    "print(f'la letra \"a\" ha salido {len(lista_a)} veces')\n",
    "print(f'la letra \"e\" ha salido {len(lista_e)} veces')\n",
    "print(f'la letra \"i\" ha salido {len(lista_i)} veces')\n",
    "print(f'la letra \"o\" ha salido {len(lista_o)} veces')\n",
    "print(f'la letra \"u\" ha salido {len(lista_u)} veces')"
   ]
  },
  {
   "cell_type": "markdown",
   "metadata": {},
   "source": [
    "#### 8. Dada la cadena `\"Python\"`, usa un bucle `for` para imprimir los caracteres en orden inverso (`n`, `o`, `h`, `t`, `y`, `P`).\n"
   ]
  },
  {
   "cell_type": "code",
   "execution_count": 57,
   "metadata": {},
   "outputs": [
    {
     "name": "stdout",
     "output_type": "stream",
     "text": [
      "n\n",
      "o\n",
      "h\n",
      "t\n",
      "y\n",
      "P\n"
     ]
    }
   ],
   "source": [
    "cadena = 'Python'\n",
    "\n",
    "for letra in cadena[::-1]:\n",
    "    print(letra)"
   ]
  },
  {
   "cell_type": "markdown",
   "metadata": {},
   "source": [
    "#### 9. Dada la lista `[1, 2, 3, 4, 5]`, multiplica todos sus elementos usando un bucle `for` y almacena los resultados en una lista nueva. \n"
   ]
  },
  {
   "cell_type": "code",
   "execution_count": 58,
   "metadata": {},
   "outputs": [
    {
     "name": "stdout",
     "output_type": "stream",
     "text": [
      "accedemos al elemento: \"1\" y lo multiplicamos por sí mismo dando como resultado \"1\"\n",
      "accedemos al elemento: \"2\" y lo multiplicamos por sí mismo dando como resultado \"4\"\n",
      "accedemos al elemento: \"3\" y lo multiplicamos por sí mismo dando como resultado \"9\"\n",
      "accedemos al elemento: \"4\" y lo multiplicamos por sí mismo dando como resultado \"16\"\n",
      "accedemos al elemento: \"5\" y lo multiplicamos por sí mismo dando como resultado \"25\"\n",
      " esta es la lista final de resultados tras el bucle: [1, 4, 9, 16, 25]\n"
     ]
    }
   ],
   "source": [
    "lista = [1,2,3,4,5]\n",
    "resultados =[]\n",
    "\n",
    "for num in lista:\n",
    "    print(f'accedemos al elemento: \"{num}\" y lo multiplicamos por sí mismo dando como resultado \"{num*num}\"')\n",
    "    resultados.append(num*num)\n",
    "\n",
    "print(f' esta es la lista final de resultados tras el bucle: {resultados}')\n"
   ]
  },
  {
   "cell_type": "markdown",
   "metadata": {},
   "source": [
    "#### 10. Dada la lista `[1, 2, 3, 4, 5, 6, 7, 8, 9, 10]`, utiliza un bucle `for` para contar cuántos números son pares y cuántos son impares."
   ]
  },
  {
   "cell_type": "code",
   "execution_count": 60,
   "metadata": {},
   "outputs": [
    {
     "name": "stdout",
     "output_type": "stream",
     "text": [
      "hay un total de \"5\" números pares y son los siguientes:\n",
      "[2, 4, 6, 8, 10]\n",
      "hay un total de \"5\" números impares y son los siguientes:\n",
      "[1, 3, 5, 7, 9]\n"
     ]
    }
   ],
   "source": [
    "lista = [1,2,3,4,5,6,7,8,9,10]\n",
    "par = []\n",
    "impar = []\n",
    "\n",
    "for num in lista:\n",
    "    if num % 2 == 0:\n",
    "        par.append(num)\n",
    "    else:\n",
    "        impar.append(num)\n",
    "\n",
    "print(f'hay un total de \"{len(par)}\" números pares y son los siguientes:')\n",
    "print(par)\n",
    "print(f'hay un total de \"{len(impar)}\" números impares y son los siguientes:')\n",
    "print(impar)"
   ]
  },
  {
   "cell_type": "markdown",
   "metadata": {},
   "source": [
    "#### 11. Escribe un programa que solicite al usuario un número entero positivo (`n`) y calcule la suma de todos los números primos menores o iguales a `n`. Utiliza un bucle `for` para iterar sobre cada número y verifica si es primo."
   ]
  },
  {
   "cell_type": "code",
   "execution_count": 1,
   "metadata": {},
   "outputs": [
    {
     "name": "stdout",
     "output_type": "stream",
     "text": [
      "en número introducido ha sido:\"34\" por lo que el rango es \"0\" a \"34\"\n",
      "---------------------------------\n",
      "los números primos menores o iguales a \"34\" han sido:\n",
      "[2, 3, 5, 7, 11, 13, 17, 19, 23, 29, 31]\n",
      "---------------------------------\n",
      "los números compuestos menores o iguales a \"34\" han sido:\n",
      "[4, 6, 8, 9, 10, 12, 14, 15, 16, 18, 20, 21, 22, 24, 25, 26, 27, 28, 30, 32, 33, 34]\n",
      "estoy iterando con: \"2\"\n",
      "estoy iterando con: \"3\"\n",
      "estoy iterando con: \"5\"\n",
      "estoy iterando con: \"7\"\n",
      "estoy iterando con: \"11\"\n",
      "estoy iterando con: \"13\"\n",
      "estoy iterando con: \"17\"\n",
      "estoy iterando con: \"19\"\n",
      "estoy iterando con: \"23\"\n",
      "estoy iterando con: \"29\"\n",
      "estoy iterando con: \"31\"\n",
      "------------------------------\n",
      "mi suma total asciende a: 160\n"
     ]
    }
   ],
   "source": [
    "n = int(input('Por favor, introduce un número entero positivo:'))\n",
    "print(f'en número introducido ha sido:\"{n}\" por lo que el rango es \"0\" a \"{n}\"')\n",
    "print('---------------------------------')\n",
    "\n",
    "primos = []\n",
    "compuestos = []\n",
    "\n",
    "for i in range(2, n + 1):\n",
    "    for j in range(2, i + 1):\n",
    "        if i % j == 0:\n",
    "            if i == j:\n",
    "                primos.append(i)\n",
    "            else:\n",
    "                compuestos.append(i)\n",
    "                break\n",
    "        else:\n",
    "            j += 1\n",
    "\n",
    "print(f'los números primos menores o iguales a \"{n}\" han sido:')\n",
    "print(primos)\n",
    "print('---------------------------------')\n",
    "print(f'los números compuestos menores o iguales a \"{n}\" han sido:')\n",
    "print(compuestos)\n",
    "\n",
    "suma = 0\n",
    "\n",
    "for num in primos:\n",
    "    print(f'estoy iterando con: \"{num}\"')\n",
    "    suma += num\n",
    "\n",
    "print('------------------------------')\n",
    "print(f'mi suma total asciende a: {suma}')\n"
   ]
  },
  {
   "cell_type": "markdown",
   "metadata": {},
   "source": [
    "#### 12. Escribe un programa que solicite al usuario un número entero positivo (`n`) y luego imprima un patrón de asteriscos como el siguiente ejemplo para `n = 5`:\n",
    "```\n",
    "*\n",
    "**\n",
    "***\n",
    "****\n",
    "*****\n",
    "```\n",
    "Utiliza un bucle `for` anidado para controlar la cantidad de asteriscos en cada línea."
   ]
  },
  {
   "cell_type": "code",
   "execution_count": 128,
   "metadata": {},
   "outputs": [
    {
     "name": "stdout",
     "output_type": "stream",
     "text": [
      "el número introducido ha sido:\"5\"\n",
      "---------------------------------\n",
      "*\n",
      "**\n",
      "***\n",
      "****\n",
      "*****\n"
     ]
    }
   ],
   "source": [
    "n = int(input('Por favor, introduce un número entero positivo:'))\n",
    "print(f'el número introducido ha sido:\"{n}\"')\n",
    "print('---------------------------------')\n",
    "\n",
    "impresion = '*'\n",
    "\n",
    "for num in range(1,n+1):\n",
    "    print(num*impresion)"
   ]
  },
  {
   "cell_type": "markdown",
   "metadata": {},
   "source": [
    "#### 13. Dado un texto, utiliza un bucle `for` para contar cuántas veces aparece cada palabra en el texto. Ignora mayúsculas/minúsculas y los signos de puntuación."
   ]
  },
  {
   "cell_type": "code",
   "execution_count": 11,
   "metadata": {},
   "outputs": [
    {
     "name": "stdout",
     "output_type": "stream",
     "text": [
      "{'hola': 1, 'amigo': 2, 'coche': 1, 'alfombra': 2, 'pájaro': 3, 'adiós': 1}\n"
     ]
    }
   ],
   "source": [
    "texto = 'Hola amigo, Coche alfombra Pájaro alfombra pájaro, pájaro. Adiós amigo.'\n",
    "\n",
    "texto1 = texto.lower()\n",
    "texto_sin_puntuacion = texto1.replace(\",\", \"\")\n",
    "texto_def = texto_sin_puntuacion.replace(\".\", \"\")\n",
    "lista = texto_def.split(\" \")\n",
    "\n",
    "coincidencias = []\n",
    "\n",
    "for palabra in lista:\n",
    "    resultado = lista.count(palabra)\n",
    "    coincidencias.append(resultado)\n",
    "\n",
    "print(dict(zip(lista, coincidencias)))"
   ]
  },
  {
   "cell_type": "markdown",
   "metadata": {},
   "source": [
    "#### 14. Escribe un programa que solicite al usuario dos números enteros positivos (`inicio` y `fin`, donde `inicio <= fin`) y luego calcule la suma de los números pares y la suma de los números impares en ese rango. Utiliza un bucle `for` para iterar sobre cada número y una estructura `if-else` para clasificar y sumar los números pares e impares."
   ]
  },
  {
   "cell_type": "code",
   "execution_count": null,
   "metadata": {},
   "outputs": [
    {
     "name": "stdout",
     "output_type": "stream",
     "text": [
      "has introducido como inicio: \"1\" y como fin: \"10\"\n",
      "---------------------------------\n",
      "esta es mi lista de pares:\n",
      "[2, 4, 6, 8, 10]\n",
      "esta es mi lista de impares:\n",
      "[1, 3, 5, 7, 9]\n",
      "---------------------------------\n",
      "mi suma total de números \"pares\" asciende a: \"30\"\n",
      "mi suma total de números \"impares\" asciende a: \"25\"\n"
     ]
    }
   ],
   "source": [
    "inicio = int(input('Por favor, introduce un número entero positivo llamado \"inicio\":'))\n",
    "fin = int(input('Por favor, ahora introduce un número entero positivo, mayor que inicio, llamado \"fin\":'))\n",
    "print(f'has introducido como inicio: \"{inicio}\" y como fin: \"{fin}\"')\n",
    "print('---------------------------------')\n",
    "\n",
    "par = []\n",
    "impar = []\n",
    "suma_par = 0\n",
    "suma_impar = 0\n",
    "\n",
    "if inicio > fin:\n",
    "    print(f'el número \"{fin}\" no es válido como \"fin\"')\n",
    "else:\n",
    "    for num in range(inicio,fin+1):\n",
    "        if num % 2 == 0:\n",
    "            par.append(num)\n",
    "        else:\n",
    "            impar.append(num)\n",
    "\n",
    "for i in impar:\n",
    "    suma_impar += i\n",
    "\n",
    "for i in par:\n",
    "    suma_par += i\n",
    "\n",
    "print(f'esta es mi lista de pares:')\n",
    "print(par)\n",
    "print(f'esta es mi lista de impares:')\n",
    "print(impar)\n",
    "print('---------------------------------')\n",
    "\n",
    "print(f'mi suma total de números \"pares\" asciende a: \"{suma_par}\"')\n",
    "print(f'mi suma total de números \"impares\" asciende a: \"{suma_impar}\"')"
   ]
  },
  {
   "cell_type": "markdown",
   "metadata": {},
   "source": [
    "#### 15. Escribe un programa que solicite al usuario un número entero positivo (`n`) y luego identifique todos los números primos menores o iguales a `n`. Para cada número, imprime si es primo o no usando un bucle `for` y una estructura `if-else` para verificar la condición de primalidad."
   ]
  },
  {
   "cell_type": "code",
   "execution_count": 137,
   "metadata": {},
   "outputs": [
    {
     "name": "stdout",
     "output_type": "stream",
     "text": [
      "en número introducido ha sido:\"19\" por lo que el rango es \"0\" a \"19\"\n",
      "---------------------------------\n",
      "el número \"2\" es primo\n",
      "el número \"3\" es primo\n",
      "el número \"4\" no es primo\n",
      "el número \"5\" es primo\n",
      "el número \"6\" no es primo\n",
      "el número \"7\" es primo\n",
      "el número \"8\" no es primo\n",
      "el número \"9\" no es primo\n",
      "el número \"10\" no es primo\n",
      "el número \"11\" es primo\n",
      "el número \"12\" no es primo\n",
      "el número \"13\" es primo\n",
      "el número \"14\" no es primo\n",
      "el número \"15\" no es primo\n",
      "el número \"16\" no es primo\n",
      "el número \"17\" es primo\n",
      "el número \"18\" no es primo\n",
      "el número \"19\" es primo\n",
      "---------------------------------\n",
      "los números primos menores o iguales a \"19\" han sido:\n",
      "[2, 3, 5, 7, 11, 13, 17, 19]\n",
      "---------------------------------\n",
      "los números compuestos menores o iguales a \"19\" han sido:\n",
      "[4, 6, 8, 9, 10, 12, 14, 15, 16, 18]\n"
     ]
    }
   ],
   "source": [
    "n = int(input('Por favor, introduce un número entero positivo:'))\n",
    "print(f'en número introducido ha sido:\"{n}\" por lo que el rango es \"0\" a \"{n}\"')\n",
    "print('---------------------------------')\n",
    "\n",
    "primos = []\n",
    "compuestos = []\n",
    "\n",
    "for i in range(2, n + 1):\n",
    "    for j in range(2, i + 1):\n",
    "        if i % j == 0:\n",
    "            if i == j:\n",
    "                primos.append(i)\n",
    "                print(f'el número \"{i}\" es primo')\n",
    "            else:\n",
    "                compuestos.append(i)\n",
    "                print(f'el número \"{i}\" no es primo')\n",
    "                break\n",
    "        else:\n",
    "            j += 1\n",
    "\n",
    "print('---------------------------------')\n",
    "print(f'los números primos menores o iguales a \"{n}\" han sido:')\n",
    "print(primos)\n",
    "print('---------------------------------')\n",
    "print(f'los números compuestos menores o iguales a \"{n}\" han sido:')\n",
    "print(compuestos)"
   ]
  },
  {
   "cell_type": "markdown",
   "metadata": {},
   "source": [
    "#### 16.Dada una lista de precios `[100, 200, 300, 400, 500]`, aplica un descuento del 10% a todos los precios mayores a `250`. Imprime la lista actualizada de precios después de aplicar el descuento utilizando un bucle `for`. "
   ]
  },
  {
   "cell_type": "code",
   "execution_count": 140,
   "metadata": {},
   "outputs": [
    {
     "name": "stdout",
     "output_type": "stream",
     "text": [
      "esta es la lista actualizada de precios tras aplicar los descuentos:\n",
      "[100, 200, 270.0, 360.0, 450.0]\n"
     ]
    }
   ],
   "source": [
    "precios = [100, 200, 300, 400, 500]\n",
    "precios_con_dto = []\n",
    "\n",
    "for precio in precios:\n",
    "    if precio > 250:\n",
    "        precios_con_dto.append((precio*0.9))\n",
    "    else:\n",
    "        precios_con_dto.append(precio)\n",
    "\n",
    "print('esta es la lista actualizada de precios tras aplicar los descuentos:')\n",
    "print(precios_con_dto)"
   ]
  },
  {
   "cell_type": "markdown",
   "metadata": {},
   "source": [
    "#### 17. Dada una lista de calificaciones de estudiantes `[85, 92, 78, 90, 88]`, clasifica a cada estudiante como \"Aprobado\" si la calificación es mayor o igual a `80` y como \"Reprobado\" si es menor a `80`. Imprime el nombre de cada estudiante junto con su estado utilizando un bucle `for` y una estructura `if-else`.\n"
   ]
  },
  {
   "cell_type": "code",
   "execution_count": 152,
   "metadata": {},
   "outputs": [
    {
     "name": "stdout",
     "output_type": "stream",
     "text": [
      "esta es la lista de \"alumnos\": [1, 2, 3, 4, 5]\n",
      "esta es la lista de aprobados y reprobados: ['aprobado', 'aprobado', 'reprobado', 'aprobado', 'aprobado']\n",
      "--------------------------------\n",
      "el alumno \"1\" ha obtenido un \"aprobado\"\n",
      "el alumno \"2\" ha obtenido un \"aprobado\"\n",
      "el alumno \"3\" ha obtenido un \"reprobado\"\n",
      "el alumno \"4\" ha obtenido un \"aprobado\"\n",
      "el alumno \"5\" ha obtenido un \"aprobado\"\n"
     ]
    }
   ],
   "source": [
    "calificaciones = [85, 92, 78, 90, 88]\n",
    "alumnos = []\n",
    "notas = []\n",
    "\n",
    "for i in range(1, (len(calificaciones) + 1)):\n",
    "    alumnos.append(i)\n",
    "print(f'esta es la lista de \"alumnos\": {alumnos}')\n",
    "\n",
    "for j in calificaciones:\n",
    "    if j < 80:\n",
    "        notas.append(\"reprobado\")\n",
    "    elif j >= 80:\n",
    "        notas.append(\"aprobado\")\n",
    "print(f'esta es la lista de aprobados y reprobados: {notas}')\n",
    "print('--------------------------------')\n",
    "\n",
    "for alumno, nota in zip(alumnos,notas):\n",
    "    print(f'el alumno \"{alumno}\" ha obtenido un \"{nota}\"')\n",
    "\n",
    "\n",
    "\n"
   ]
  },
  {
   "cell_type": "markdown",
   "metadata": {},
   "source": [
    "\n",
    "#### 18. Escribe un programa que solicite al usuario dos números enteros positivos (`inicio`, `fin`) y otro número entero positivo (`divisor`). Encuentra el número más grande en el rango desde `inicio` hasta `fin` que sea divisible por `divisor`. Utiliza un bucle `for` y una estructura `if-else` para verificar y mantener el registro del número más grande divisible por el divisor dado.\n"
   ]
  },
  {
   "cell_type": "code",
   "execution_count": 163,
   "metadata": {},
   "outputs": [
    {
     "name": "stdout",
     "output_type": "stream",
     "text": [
      "has introducido un rango (\"1\", \"10\"), con \"3\" como divisor.\n",
      "---------------------------------\n",
      "en el rango (1,10), los números divisibles por \"3\" son:\n",
      "[3, 6, 9]\n",
      "siendo el número más grande: 9\n"
     ]
    }
   ],
   "source": [
    "inicio = int(input('Por favor, introduce un número entero positivo llamado \"inicio\":'))\n",
    "fin = int(input('Ahora introduce un número entero positivo, mayor que inicio, llamado \"fin\":'))\n",
    "divisor = int(input('Por último, introduce un número entero positivo, llamado \"divisor\":'))\n",
    "print(f'has introducido un rango (\"{inicio}\", \"{fin}\"), con \"{divisor}\" como divisor.')\n",
    "print('---------------------------------')\n",
    "\n",
    "num_div = []\n",
    "\n",
    "for i in range(inicio, fin + 1):\n",
    "    if i % divisor == 0:\n",
    "        num_div.append(i)         \n",
    "    else:\n",
    "        i += 1\n",
    "\n",
    "num_div_ordenados = sorted(num_div, reverse=True)\n",
    "\n",
    "print(f'en el rango ({inicio},{fin}), los números divisibles por \"{divisor}\" son:')\n",
    "print(num_div)\n",
    "print(f'siendo el número más grande: {num_div_ordenados[0]}')\n"
   ]
  },
  {
   "cell_type": "markdown",
   "metadata": {},
   "source": []
  }
 ],
 "metadata": {
  "kernelspec": {
   "display_name": "Python 3",
   "language": "python",
   "name": "python3"
  },
  "language_info": {
   "codemirror_mode": {
    "name": "ipython",
    "version": 3
   },
   "file_extension": ".py",
   "mimetype": "text/x-python",
   "name": "python",
   "nbconvert_exporter": "python",
   "pygments_lexer": "ipython3",
   "version": "3.9.6"
  }
 },
 "nbformat": 4,
 "nbformat_minor": 2
}
