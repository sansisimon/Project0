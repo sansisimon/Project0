{
 "cells": [
  {
   "cell_type": "markdown",
   "metadata": {},
   "source": [
    "<div style=\"text-align: center;\">\n",
    "  <img src=\"https://github.com/Hack-io-Data/Imagenes/blob/main/01-LogosHackio/logo_celeste@4x.png?raw=true\" alt=\"logo hack(io)\" />\n",
    "</div>"
   ]
  },
  {
   "cell_type": "markdown",
   "metadata": {},
   "source": [
    "#### 1. Acceso a valores. Dado el diccionario:\n",
    "\n",
    "```python\n",
    "alumno = {\n",
    "    \"nombre\": \"Laura\",\n",
    "    \"edad\": 22,\n",
    "    \"carrera\": \"Biología\"\n",
    "}\n",
    "```\n",
    "\n",
    "1.1. Accede y muestra el valor asociado con la clave `\"nombre\"`.\n",
    "\n",
    "1.2. Accede y muestra el valor asociado con la clave `\"carrera\"`.\n"
   ]
  },
  {
   "cell_type": "code",
   "execution_count": 3,
   "metadata": {},
   "outputs": [],
   "source": [
    "alumno = {\n",
    "    \"nombre\": \"Laura\",\n",
    "    \"edad\": 22,\n",
    "    \"carrera\": \"Biología\"\n",
    "}"
   ]
  },
  {
   "cell_type": "code",
   "execution_count": 7,
   "metadata": {},
   "outputs": [
    {
     "name": "stdout",
     "output_type": "stream",
     "text": [
      "accede y muestra el valor asociado con la clave nombre: Laura\n",
      "accede y muestra el valor asociado con la clave carrera: Biología\n"
     ]
    }
   ],
   "source": [
    "#1.1. Accede y muestra el valor asociado con la clave `\"nombre\"`.\n",
    "print('accede y muestra el valor asociado con la clave nombre:', alumno['nombre'])\n",
    "\n",
    "#1.2. Accede y muestra el valor asociado con la clave `\"carrera\"`.\n",
    "print('accede y muestra el valor asociado con la clave carrera:', alumno['carrera'])"
   ]
  },
  {
   "cell_type": "markdown",
   "metadata": {},
   "source": [
    "#### 2. Actualización de valores. Dado el siguiente diccionario:\n",
    "\n",
    "```python\n",
    "cuenta = {\n",
    "    \"saldo\": 1500,\n",
    "    \"moneda\": \"USD\"\n",
    "}\n",
    "```\n",
    "\n",
    "2.1. Actualiza el valor de la clave `\"saldo\"` a `2000`.\n",
    "\n",
    "2.2. Cambia el valor de `\"moneda\"` a `\"EUR\"`."
   ]
  },
  {
   "cell_type": "code",
   "execution_count": 9,
   "metadata": {},
   "outputs": [
    {
     "name": "stdout",
     "output_type": "stream",
     "text": [
      "{'saldo': 1500, 'moneda': 'USD'}\n"
     ]
    }
   ],
   "source": [
    "cuenta = {\n",
    "    \"saldo\": 1500,\n",
    "    \"moneda\": \"USD\"\n",
    "}\n",
    "print(cuenta)"
   ]
  },
  {
   "cell_type": "code",
   "execution_count": 10,
   "metadata": {},
   "outputs": [
    {
     "name": "stdout",
     "output_type": "stream",
     "text": [
      "{'saldo': 2000, 'moneda': 'EUR'}\n"
     ]
    }
   ],
   "source": [
    "#2.1. Actualiza el valor de la clave `\"saldo\"` a `2000`.\n",
    "cuenta['saldo'] = 2000\n",
    "#2.2. Cambia el valor de `\"moneda\"` a `\"EUR\"`.\n",
    "cuenta['moneda'] = 'EUR'\n",
    "\n",
    "print(cuenta)"
   ]
  },
  {
   "cell_type": "markdown",
   "metadata": {},
   "source": [
    "\n",
    "#### 3. Añadir nuevas claves. Dado el diccionario:\n",
    "\n",
    "```python\n",
    "vehiculo = {\n",
    "    \"marca\": \"Ford\",\n",
    "    \"modelo\": \"Mustang\"\n",
    "}\n",
    "```\n",
    "\n",
    "3.1. Añade una nueva clave `\"año\"` con el valor `2020`.\n",
    "\n",
    "3.2. Añade una nueva clave `\"color\"` con el valor `\"rojo\"`.\n"
   ]
  },
  {
   "cell_type": "code",
   "execution_count": 12,
   "metadata": {},
   "outputs": [
    {
     "name": "stdout",
     "output_type": "stream",
     "text": [
      "{'marca': 'Ford', 'modelo': 'Mustang'}\n"
     ]
    }
   ],
   "source": [
    "vehiculo = {\n",
    "    \"marca\": \"Ford\",\n",
    "    \"modelo\": \"Mustang\"\n",
    "}\n",
    "print(vehiculo)"
   ]
  },
  {
   "cell_type": "code",
   "execution_count": 15,
   "metadata": {},
   "outputs": [
    {
     "name": "stdout",
     "output_type": "stream",
     "text": [
      "hemos añadido una nueva clave valor 1: {'marca': 'Ford', 'modelo': 'Mustang', 'año': 2020}\n",
      "hemos añadido una nueva clave valor 2: {'marca': 'Ford', 'modelo': 'Mustang', 'año': 2020, 'color': 'rojo'}\n"
     ]
    }
   ],
   "source": [
    "#3.1. Añade una nueva clave `\"año\"` con el valor `2020`.\n",
    "vehiculo.update({'año': 2020})\n",
    "print('hemos añadido una nueva clave valor 1:', vehiculo)\n",
    "#3.2. Añade una nueva clave `\"color\"` con el valor `\"rojo\"`.\n",
    "vehiculo.update({'color': 'rojo'})\n",
    "print('hemos añadido una nueva clave valor 2:', vehiculo)"
   ]
  },
  {
   "cell_type": "markdown",
   "metadata": {},
   "source": [
    "#### 4. Eliminar Claves. Dado el diccionario:\n",
    "\n",
    "```python\n",
    "libro = {\n",
    "    \"título\": \"Cien Años de Soledad\",\n",
    "    \"autor\": \"Gabriel García Márquez\",\n",
    "    \"páginas\": 417\n",
    "}\n",
    "```\n",
    "\n",
    "4.1. Elimina la clave `\"páginas\"`.\n",
    "\n",
    "4.2. Elimina la clave `\"título\"`.\n",
    "\n"
   ]
  },
  {
   "cell_type": "code",
   "execution_count": 18,
   "metadata": {},
   "outputs": [
    {
     "name": "stdout",
     "output_type": "stream",
     "text": [
      "{'título': 'Cien Años de Soledad', 'autor': 'Gabriel García Márquez', 'páginas': 417}\n"
     ]
    }
   ],
   "source": [
    "libro = {\n",
    "    \"título\": \"Cien Años de Soledad\",\n",
    "    \"autor\": \"Gabriel García Márquez\",\n",
    "    \"páginas\": 417\n",
    "}\n",
    "print(libro)"
   ]
  },
  {
   "cell_type": "code",
   "execution_count": 19,
   "metadata": {},
   "outputs": [
    {
     "name": "stdout",
     "output_type": "stream",
     "text": [
      "hemos eliminado la key páginas con su value: 417\n",
      "hemos eliminado la key título con su value: Cien Años de Soledad\n",
      "el diccionario con las eliminaciones queda de la siguiente manera: {'autor': 'Gabriel García Márquez'}\n"
     ]
    }
   ],
   "source": [
    "#4.1. Elimina la clave `\"páginas\"`.\n",
    "print('hemos eliminado la key páginas con su value:', libro.pop('páginas'))\n",
    "#4.2. Elimina la clave `\"título\"`.\n",
    "print('hemos eliminado la key título con su value:', libro.pop('título'))\n",
    "\n",
    "print('el diccionario con las eliminaciones queda de la siguiente manera:', libro)"
   ]
  },
  {
   "cell_type": "markdown",
   "metadata": {},
   "source": [
    "\n",
    "#### 5. Verificación de Existencia de Claves. Dado el diccionario:\n",
    "\n",
    "```python\n",
    "pelicula = {\n",
    "    \"título\": \"Inception\",\n",
    "    \"director\": \"Christopher Nolan\"\n",
    "}\n",
    "```\n",
    "5.1. Verifica si la clave `\"director\"` existe en el diccionario.\n",
    "\n",
    "5.2. Verifica si la clave `\"año\"` existe en el diccionario.\n"
   ]
  },
  {
   "cell_type": "code",
   "execution_count": 20,
   "metadata": {},
   "outputs": [
    {
     "name": "stdout",
     "output_type": "stream",
     "text": [
      "{'título': 'Inception', 'director': 'Christopher Nolan'}\n"
     ]
    }
   ],
   "source": [
    "pelicula = {\n",
    "    \"título\": \"Inception\",\n",
    "    \"director\": \"Christopher Nolan\"\n",
    "}\n",
    "print(pelicula)"
   ]
  },
  {
   "cell_type": "code",
   "execution_count": 22,
   "metadata": {},
   "outputs": [
    {
     "name": "stdout",
     "output_type": "stream",
     "text": [
      "¿está director en película? True\n",
      "¿está año en película? False\n"
     ]
    }
   ],
   "source": [
    "#5.1. Verifica si la clave `\"director\"` existe en el diccionario.\n",
    "print('¿está director en película?', 'director'in pelicula)\n",
    "\n",
    "#5.2. Verifica si la clave `\"año\"` existe en el diccionario.\n",
    "print('¿está año en película?', 'año'in pelicula)\n"
   ]
  },
  {
   "cell_type": "markdown",
   "metadata": {},
   "source": [
    "#### 6. Uso del Método `get`. Dado el diccionario:\n",
    "\n",
    "```python\n",
    "ciudad = {\n",
    "    \"nombre\": \"París\",\n",
    "    \"país\": \"Francia\"\n",
    "}\n",
    "```\n",
    "\n",
    "6.1. Usa el método `get` para obtener el valor de la clave `\"nombre\"`.\n",
    "\n",
    "6.2. Usa el método `get` para obtener el valor de la clave `\"población\"` con un valor predeterminado `\"Desconocido\"`.\n"
   ]
  },
  {
   "cell_type": "code",
   "execution_count": 25,
   "metadata": {},
   "outputs": [
    {
     "name": "stdout",
     "output_type": "stream",
     "text": [
      "{'nombre': 'París', 'país': 'Francia'}\n"
     ]
    }
   ],
   "source": [
    "ciudad = {\n",
    "    \"nombre\": \"París\",\n",
    "    \"país\": \"Francia\"\n",
    "}\n",
    "\n",
    "print(ciudad)"
   ]
  },
  {
   "cell_type": "code",
   "execution_count": 38,
   "metadata": {},
   "outputs": [
    {
     "name": "stdout",
     "output_type": "stream",
     "text": [
      "usamos el método get para obtener el valor de la clave de nombre: París\n",
      "usamos el método get para obtener el valor de la clave de población: Desconocido\n",
      "Comprobamos con un print lo siguiente:\n",
      "que la clave-valor población-Desconocido no existe en el diccionario, aunque nos la haya devuelto: {'nombre': 'París', 'país': 'Francia'}\n"
     ]
    }
   ],
   "source": [
    "#6.1. Usa el método `get` para obtener el valor de la clave `\"nombre\"`.\n",
    "print('usamos el método get para obtener el valor de la clave de nombre:', ciudad.get('nombre'))\n",
    "#6.2. Usa el método `get` para obtener el valor de la clave `\"población\"` con un valor predeterminado `\"Desconocido\"`.\n",
    "print('usamos el método get para obtener el valor de la clave de población:', ciudad.get('población','Desconocido'))\n",
    "\n",
    "print(f'Comprobamos con un print lo siguiente:')\n",
    "print(f'que la clave-valor población-Desconocido no existe en el diccionario, aunque nos la haya devuelto: {ciudad}')"
   ]
  },
  {
   "cell_type": "markdown",
   "metadata": {},
   "source": [
    "#### 7. Actualización con `update`. Dado el diccionario:\n",
    "\n",
    "```python\n",
    "persona = {\n",
    "    \"nombre\": \"Miguel\",\n",
    "    \"correo\": \"miguel@example.com\"\n",
    "}\n",
    "```\n",
    "\n",
    "7.1. Usa el método `update` para añadir las claves `\"edad\"` con valor `30` y `\"teléfono\"` con valor `\"555-1234\"`.\n",
    "\n",
    "7.2. Cambia el valor de la clave `\"correo\"` usando `update`.\n"
   ]
  },
  {
   "cell_type": "code",
   "execution_count": 53,
   "metadata": {},
   "outputs": [
    {
     "name": "stdout",
     "output_type": "stream",
     "text": [
      "{'nombre': 'Miguel', 'correo': 'miguel@example.com'}\n"
     ]
    }
   ],
   "source": [
    "persona = {\n",
    "    \"nombre\": \"Miguel\",\n",
    "    \"correo\": \"miguel@example.com\"\n",
    "}\n",
    "print(persona)"
   ]
  },
  {
   "cell_type": "code",
   "execution_count": 54,
   "metadata": {},
   "outputs": [
    {
     "name": "stdout",
     "output_type": "stream",
     "text": [
      "lista actualizada en claves `\"edad\"` con valor `30` y `\"teléfono\"` con valor `\"555-1234:\n",
      "{'nombre': 'Miguel', 'correo': 'miguel@example.com', 'edad': 30, 'teléfono': '555-1234'}\n",
      "----------------\n",
      "\n",
      "lista actualizada cambiando el valor de la clave `\"correo\"` usando `update`:\n",
      "{'nombre': 'Miguel', 'correo': 'miguelinchi@example.com', 'edad': 30, 'teléfono': '555-1234'}\n"
     ]
    }
   ],
   "source": [
    "#7.1. Usa el método `update` para añadir las claves `\"edad\"` con valor `30` y `\"teléfono\"` con valor `\"555-1234\"`.\n",
    "añadido = {'edad': 30,'teléfono':'555-1234'}\n",
    "persona.update(añadido)\n",
    "print('lista actualizada en claves `\"edad\"` con valor `30` y `\"teléfono\"` con valor `\"555-1234:')\n",
    "print(persona)\n",
    "print('----------------\\n')\n",
    "\n",
    "#7.2. Cambia el valor de la clave `\"correo\"` usando `update`.\n",
    "persona.update({'correo': 'miguelinchi@example.com'})\n",
    "print('lista actualizada cambiando el valor de la clave `\"correo\"` usando `update`:')\n",
    "print(persona)"
   ]
  }
 ],
 "metadata": {
  "kernelspec": {
   "display_name": "Python 3",
   "language": "python",
   "name": "python3"
  },
  "language_info": {
   "codemirror_mode": {
    "name": "ipython",
    "version": 3
   },
   "file_extension": ".py",
   "mimetype": "text/x-python",
   "name": "python",
   "nbconvert_exporter": "python",
   "pygments_lexer": "ipython3",
   "version": "3.9.6"
  }
 },
 "nbformat": 4,
 "nbformat_minor": 2
}
