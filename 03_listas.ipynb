{
 "cells": [
  {
   "cell_type": "markdown",
   "metadata": {},
   "source": [
    "<div style=\"text-align: center;\">\n",
    "  <img src=\"https://github.com/Hack-io-Data/Imagenes/blob/main/01-LogosHackio/logo_celeste@4x.png?raw=true\" alt=\"logo hack(io)\" />\n",
    "</div>"
   ]
  },
  {
   "cell_type": "markdown",
   "metadata": {},
   "source": [
    "\n",
    "#### 1. Declara una lista llamada `numeros` y asigna a ella los valores 15, 20, 60, 23, 40, 74, 48, 19, 54, 67, 93.\n"
   ]
  },
  {
   "cell_type": "code",
   "execution_count": 93,
   "metadata": {},
   "outputs": [],
   "source": [
    "numeros = [15, 20, 60, 23, 40, 74, 48, 19, 54, 67, 93]"
   ]
  },
  {
   "cell_type": "markdown",
   "metadata": {},
   "source": [
    "#### 2. Declara una lista llamada `letras` y asigna a ella los valores 'G', 'B', 'S', 's', 'D', 'z', 'd', 'Z', 'A', 'O', 'D'.\n"
   ]
  },
  {
   "cell_type": "code",
   "execution_count": 94,
   "metadata": {},
   "outputs": [],
   "source": [
    "letras = ['G', 'B', 'S', 's', 'D', 'z', 'd', 'Z', 'A', 'O', 'D']"
   ]
  },
  {
   "cell_type": "markdown",
   "metadata": {},
   "source": [
    "#### 3. Imprime en pantalla el valor de cada lista utilizando la función print()."
   ]
  },
  {
   "cell_type": "code",
   "execution_count": 95,
   "metadata": {},
   "outputs": [
    {
     "name": "stdout",
     "output_type": "stream",
     "text": [
      "numeros: [15, 20, 60, 23, 40, 74, 48, 19, 54, 67, 93]\n",
      "letras: ['G', 'B', 'S', 's', 'D', 'z', 'd', 'Z', 'A', 'O', 'D']\n"
     ]
    }
   ],
   "source": [
    "print('numeros:', numeros)\n",
    "print('letras:', letras)"
   ]
  },
  {
   "cell_type": "markdown",
   "metadata": {},
   "source": [
    "#### 4. Crea dos variables `longitud_numeros` y `longitud_letras` que correspondan con las longitudes de las listas creadas previamente. "
   ]
  },
  {
   "cell_type": "code",
   "execution_count": 96,
   "metadata": {},
   "outputs": [
    {
     "name": "stdout",
     "output_type": "stream",
     "text": [
      "longitud numeros: 11\n",
      "longitud letras: 11\n"
     ]
    }
   ],
   "source": [
    "longitud_numeros = len(numeros)\n",
    "print('longitud numeros:', longitud_numeros)\n",
    "longitud_letras = len(letras)\n",
    "print('longitud letras:', longitud_letras)"
   ]
  },
  {
   "cell_type": "markdown",
   "metadata": {},
   "source": [
    "#### 5. ¿Cuál es el máximo y mínimo de la lista  `numeros`?"
   ]
  },
  {
   "cell_type": "code",
   "execution_count": 97,
   "metadata": {},
   "outputs": [
    {
     "name": "stdout",
     "output_type": "stream",
     "text": [
      "esta es la lista numeros: [15, 20, 60, 23, 40, 74, 48, 19, 54, 67, 93]\n",
      "este es el máximo en la lista: 93\n",
      "este es el mínimo en la lista: 15\n"
     ]
    }
   ],
   "source": [
    "print('esta es la lista numeros:', numeros)\n",
    "print('este es el máximo en la lista:', max(numeros))\n",
    "print('este es el mínimo en la lista:', min(numeros))"
   ]
  },
  {
   "cell_type": "markdown",
   "metadata": {},
   "source": [
    "#### 6. ¿Cuál es el máximo y mínimo de la lista  `letras`? "
   ]
  },
  {
   "cell_type": "code",
   "execution_count": 98,
   "metadata": {},
   "outputs": [
    {
     "name": "stdout",
     "output_type": "stream",
     "text": [
      "esta es la lista letras: ['G', 'B', 'S', 's', 'D', 'z', 'd', 'Z', 'A', 'O', 'D']\n",
      "este es el máximo en la lista: z\n",
      "este es el mínimo en la lista: A\n"
     ]
    }
   ],
   "source": [
    "print('esta es la lista letras:', letras)\n",
    "print('este es el máximo en la lista:', max(letras))\n",
    "print('este es el mínimo en la lista:', min(letras))"
   ]
  },
  {
   "cell_type": "markdown",
   "metadata": {},
   "source": [
    "#### 7. Selecciona los primeros 5 elementos de la lista `numeros`."
   ]
  },
  {
   "cell_type": "code",
   "execution_count": 99,
   "metadata": {},
   "outputs": [
    {
     "name": "stdout",
     "output_type": "stream",
     "text": [
      "esta es la lista numeros: [15, 20, 60, 23, 40, 74, 48, 19, 54, 67, 93]\n",
      "seleccionamos los primers 5 elementos de numeros: [15, 20, 60, 23, 40]\n"
     ]
    }
   ],
   "source": [
    "print('esta es la lista numeros:', numeros)\n",
    "print('seleccionamos los primers 5 elementos de numeros:', numeros[0:5])"
   ]
  },
  {
   "cell_type": "markdown",
   "metadata": {},
   "source": [
    "#### 8. Selecciona los ultimos 3 elementos de la lista `letras`."
   ]
  },
  {
   "cell_type": "code",
   "execution_count": 100,
   "metadata": {},
   "outputs": [
    {
     "name": "stdout",
     "output_type": "stream",
     "text": [
      "esta es la lista letras: ['G', 'B', 'S', 's', 'D', 'z', 'd', 'Z', 'A', 'O', 'D']\n",
      "seleccionamos los últimos 3 elementos de letras: ['A', 'O', 'D']\n"
     ]
    }
   ],
   "source": [
    "print('esta es la lista letras:', letras)\n",
    "print('seleccionamos los últimos 3 elementos de letras:', letras[-3:])"
   ]
  },
  {
   "cell_type": "markdown",
   "metadata": {},
   "source": [
    "#### 9. Selecciona los elementos que estaán en la lista `letras` que están en posiciones pares (posiciones de Python). "
   ]
  },
  {
   "cell_type": "code",
   "execution_count": 101,
   "metadata": {},
   "outputs": [
    {
     "name": "stdout",
     "output_type": "stream",
     "text": [
      "esta es la lista letras: ['G', 'B', 'S', 's', 'D', 'z', 'd', 'Z', 'A', 'O', 'D']\n",
      "seleccionamos los elementos de letras que están en posición par: ['B', 's', 'z', 'Z', 'O']\n"
     ]
    }
   ],
   "source": [
    "print('esta es la lista letras:', letras)\n",
    "print('seleccionamos los elementos de letras que están en posición par:', letras[1::2])"
   ]
  },
  {
   "cell_type": "markdown",
   "metadata": {},
   "source": [
    "#### 10. Selecciona del tercer al décimo elemento de la lista `numeros` seleccionalos de 2 en 2."
   ]
  },
  {
   "cell_type": "code",
   "execution_count": 102,
   "metadata": {},
   "outputs": [
    {
     "name": "stdout",
     "output_type": "stream",
     "text": [
      "esta es la lista numeros: [15, 20, 60, 23, 40, 74, 48, 19, 54, 67, 93]\n",
      "seleccionamos del tercer al décimo elemento de numeros, de 2 en 2: [60, 40, 48, 54, 93]\n"
     ]
    }
   ],
   "source": [
    "print('esta es la lista numeros:', numeros)\n",
    "print('seleccionamos del tercer al décimo elemento de numeros, de 2 en 2:', numeros[2:11:2])"
   ]
  },
  {
   "cell_type": "markdown",
   "metadata": {},
   "source": [
    "#### 11. Ordena la lista  `numeros` de menor a mayor sobreescribiendo el valor de la variable original. "
   ]
  },
  {
   "cell_type": "code",
   "execution_count": 103,
   "metadata": {},
   "outputs": [
    {
     "name": "stdout",
     "output_type": "stream",
     "text": [
      "lista original de numeros: [15, 20, 60, 23, 40, 74, 48, 19, 54, 67, 93]\n",
      "esta es la lista ordenada: [15, 19, 20, 23, 40, 48, 54, 60, 67, 74, 93]\n"
     ]
    }
   ],
   "source": [
    "print('lista original de numeros:', numeros)\n",
    "numeros.sort()\n",
    "print('esta es la lista ordenada:',numeros)"
   ]
  },
  {
   "cell_type": "markdown",
   "metadata": {},
   "source": [
    "#### 12. ¿Cuántas veces aparece la letra 'd' en la lista de `letras`?"
   ]
  },
  {
   "cell_type": "code",
   "execution_count": 104,
   "metadata": {},
   "outputs": [
    {
     "name": "stdout",
     "output_type": "stream",
     "text": [
      "esta es la lista letras: ['G', 'B', 'S', 's', 'D', 'z', 'd', 'Z', 'A', 'O', 'D']\n",
      "¿cuántas veces aparece la letra d en la lista letras: 1\n"
     ]
    }
   ],
   "source": [
    "print('esta es la lista letras:', letras)\n",
    "print('¿cuántas veces aparece la letra d en la lista letras:', letras.count('d'))"
   ]
  },
  {
   "cell_type": "markdown",
   "metadata": {},
   "source": [
    "#### 13. Elimina el éltimo elemento de la lista de `numeros`."
   ]
  },
  {
   "cell_type": "code",
   "execution_count": 105,
   "metadata": {},
   "outputs": [
    {
     "name": "stdout",
     "output_type": "stream",
     "text": [
      "lista numeros: [15, 19, 20, 23, 40, 48, 54, 60, 67, 74, 93]\n",
      "eliminamos el último elemento de la lista:\n",
      "así queda la lista: [15, 19, 20, 23, 40, 48, 54, 60, 67, 74]\n"
     ]
    }
   ],
   "source": [
    "print('lista numeros:', numeros)\n",
    "print('eliminamos el último elemento de la lista:')\n",
    "numeros.pop(-1)\n",
    "print('así queda la lista:', numeros)\n"
   ]
  },
  {
   "cell_type": "markdown",
   "metadata": {},
   "source": [
    "#### 14. Agrega un 2 al final de la lista de `numeros`."
   ]
  },
  {
   "cell_type": "code",
   "execution_count": 106,
   "metadata": {},
   "outputs": [
    {
     "name": "stdout",
     "output_type": "stream",
     "text": [
      "lista numeros: [15, 19, 20, 23, 40, 48, 54, 60, 67, 74]\n",
      "así queda la lista: [15, 19, 20, 23, 40, 48, 54, 60, 67, 74, 2]\n"
     ]
    }
   ],
   "source": [
    "print('lista numeros:', numeros)\n",
    "numeros.append(2)\n",
    "print('así queda la lista:', numeros)"
   ]
  },
  {
   "cell_type": "markdown",
   "metadata": {},
   "source": [
    "#### 15. Inserta una T en la posicion 3 de la lista de `letras`. "
   ]
  },
  {
   "cell_type": "code",
   "execution_count": 107,
   "metadata": {},
   "outputs": [
    {
     "name": "stdout",
     "output_type": "stream",
     "text": [
      "lista letras: ['G', 'B', 'S', 's', 'D', 'z', 'd', 'Z', 'A', 'O', 'D']\n",
      "así queda la lista: ['G', 'B', 'T', 'S', 's', 'D', 'z', 'd', 'Z', 'A', 'O', 'D']\n"
     ]
    }
   ],
   "source": [
    "print('lista letras:', letras)\n",
    "letras.insert(2,'T')\n",
    "print('así queda la lista:', letras)"
   ]
  },
  {
   "cell_type": "markdown",
   "metadata": {},
   "source": [
    "#### 16. Elimina el primer elemento cuyo valor es \"D\" de la lista de `letras`. "
   ]
  },
  {
   "cell_type": "code",
   "execution_count": 108,
   "metadata": {},
   "outputs": [
    {
     "name": "stdout",
     "output_type": "stream",
     "text": [
      "lista letras: ['G', 'B', 'T', 'S', 's', 'D', 'z', 'd', 'Z', 'A', 'O', 'D']\n",
      "así queda la lista: ['G', 'B', 'T', 'S', 's', 'z', 'd', 'Z', 'A', 'O', 'D']\n"
     ]
    }
   ],
   "source": [
    "print('lista letras:', letras)\n",
    "letras.remove('D')\n",
    "print('así queda la lista:', letras)"
   ]
  },
  {
   "cell_type": "markdown",
   "metadata": {},
   "source": [
    "#### 17. Invierte el orden de la lista de `letras`. "
   ]
  },
  {
   "cell_type": "code",
   "execution_count": 110,
   "metadata": {},
   "outputs": [
    {
     "name": "stdout",
     "output_type": "stream",
     "text": [
      "lista letras sin invertir orden: ['G', 'B', 'T', 'S', 's', 'z', 'd', 'Z', 'A', 'O', 'D']\n",
      "lista letras invirtiendo el orden orden: ['z', 's', 'd', 'Z', 'T', 'S', 'O', 'G', 'D', 'B', 'A']\n"
     ]
    }
   ],
   "source": [
    "print('lista letras sin invertir orden:', letras)\n",
    "print('lista letras invirtiendo el orden orden:', sorted(letras, reverse=True))"
   ]
  },
  {
   "cell_type": "markdown",
   "metadata": {},
   "source": [
    "#### 18. Genera una lista vacía y añade la lista `numeros` y `letras` a la lista vacía. "
   ]
  },
  {
   "cell_type": "code",
   "execution_count": 112,
   "metadata": {},
   "outputs": [
    {
     "name": "stdout",
     "output_type": "stream",
     "text": [
      "esta es la nueva lista vacía: []\n",
      "la nueva lista vacía quedaría: [[15, 19, 20, 23, 40, 48, 54, 60, 67, 74, 2, 'G', 'B', 'T', 'S', 's', 'z', 'd', 'Z', 'A', 'O', 'D']]\n"
     ]
    }
   ],
   "source": [
    "lista_vacia = []\n",
    "print('esta es la nueva lista vacía:',lista_vacia)\n",
    "lista_vacia.append(numeros + letras)\n",
    "print('la nueva lista vacía quedaría:', lista_vacia)"
   ]
  }
 ],
 "metadata": {
  "kernelspec": {
   "display_name": "Python 3",
   "language": "python",
   "name": "python3"
  },
  "language_info": {
   "codemirror_mode": {
    "name": "ipython",
    "version": 3
   },
   "file_extension": ".py",
   "mimetype": "text/x-python",
   "name": "python",
   "nbconvert_exporter": "python",
   "pygments_lexer": "ipython3",
   "version": "3.9.6"
  }
 },
 "nbformat": 4,
 "nbformat_minor": 2
}
