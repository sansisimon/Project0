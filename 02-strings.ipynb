{
 "cells": [
  {
   "cell_type": "markdown",
   "metadata": {},
   "source": [
    "<div style=\"text-align: center;\">\n",
    "  <img src=\"https://github.com/Hack-io-Data/Imagenes/blob/main/01-LogosHackio/logo_celeste@4x.png?raw=true\" alt=\"logo hack(io)\" />\n",
    "</div>"
   ]
  },
  {
   "cell_type": "markdown",
   "metadata": {
    "vscode": {
     "languageId": "plaintext"
    }
   },
   "source": [
    "#### 1. Dado el string `texto = \"Hola Mundo\"`, conviértelo todo a minúsculas."
   ]
  },
  {
   "cell_type": "code",
   "execution_count": 8,
   "metadata": {},
   "outputs": [
    {
     "name": "stdout",
     "output_type": "stream",
     "text": [
      "variable inicial: Hola Mundo\n",
      "variable en minúsculas: hola mundo\n"
     ]
    }
   ],
   "source": [
    "texto = 'Hola Mundo'\n",
    "print('variable inicial:', texto)\n",
    "print('variable en minúsculas:', texto.lower())"
   ]
  },
  {
   "cell_type": "markdown",
   "metadata": {},
   "source": [
    "#### 2. Dado el string `texto = \"Hola Mundo\"`, conviértelo todo a mayúsculas."
   ]
  },
  {
   "cell_type": "code",
   "execution_count": 9,
   "metadata": {},
   "outputs": [
    {
     "name": "stdout",
     "output_type": "stream",
     "text": [
      "variable inicial: Hola Mundo\n",
      "variable en mayúsculas: HOLA MUNDO\n"
     ]
    }
   ],
   "source": [
    "print('variable inicial:', texto)\n",
    "print('variable en mayúsculas:', texto.upper())"
   ]
  },
  {
   "cell_type": "markdown",
   "metadata": {},
   "source": [
    "#### 3. Dado el string `texto = \"  Hola Mundo  \"`, elimina los espacios al principio y al final."
   ]
  },
  {
   "cell_type": "code",
   "execution_count": 13,
   "metadata": {},
   "outputs": [
    {
     "name": "stdout",
     "output_type": "stream",
     "text": [
      "variable inicial:   Hola Mundo  \n",
      "variable en sin espacios al principio y al final: Hola Mundo\n"
     ]
    }
   ],
   "source": [
    "texto2 = \"  Hola Mundo  \"\n",
    "print('variable inicial:', texto2)\n",
    "print('variable en sin espacios al principio y al final:', texto.strip())"
   ]
  },
  {
   "cell_type": "markdown",
   "metadata": {},
   "source": [
    "#### 4. Dado el string `texto = \"Hola Mundo\"`, reemplaza \"Mundo\" por \"Python\"."
   ]
  },
  {
   "cell_type": "code",
   "execution_count": 14,
   "metadata": {},
   "outputs": [
    {
     "name": "stdout",
     "output_type": "stream",
     "text": [
      "variable inicial: Hola Mundo\n",
      "variable con reemplazo: Hola Python\n"
     ]
    }
   ],
   "source": [
    "texto = 'Hola Mundo'\n",
    "print('variable inicial:', texto)\n",
    "print('variable con reemplazo:', texto.replace('Mundo','Python'))"
   ]
  },
  {
   "cell_type": "markdown",
   "metadata": {},
   "source": [
    "#### 5. Dado el string `texto = \"Hola Mundo\"`, divídelo en palabras."
   ]
  },
  {
   "cell_type": "code",
   "execution_count": 16,
   "metadata": {},
   "outputs": [
    {
     "name": "stdout",
     "output_type": "stream",
     "text": [
      "variable inicial: Hola Mundo\n",
      "variable dividida en palabras: ['Hola', 'Mundo']\n"
     ]
    }
   ],
   "source": [
    "texto = 'Hola Mundo'\n",
    "print('variable inicial:', texto)\n",
    "palabras = texto.split(' ')\n",
    "print('variable dividida en palabras:', palabras)"
   ]
  },
  {
   "cell_type": "markdown",
   "metadata": {},
   "source": [
    "#### 6. Dada la lista `palabras = [\"Hola\", \"Mundo\"]`, únelas en un solo string separado por un espacio."
   ]
  },
  {
   "cell_type": "code",
   "execution_count": 57,
   "metadata": {},
   "outputs": [
    {
     "name": "stdout",
     "output_type": "stream",
     "text": [
      "variable inicial: ['Hola', 'Mundo']\n",
      "Unimos la variable en un solo string, con espacio de separación: Hola Mundo\n"
     ]
    }
   ],
   "source": [
    "palabras = ['Hola', 'Mundo']\n",
    "print('variable inicial:', palabras)\n",
    "palabras_string = (' ').join(palabras)\n",
    "print('Unimos la variable en un solo string, con espacio de separación:', palabras_string)"
   ]
  },
  {
   "cell_type": "markdown",
   "metadata": {},
   "source": [
    "#### 7. Dado el string `texto = \"Hola Mundo\"`, encuentra la posición de la subcadena \"Mundo\"."
   ]
  },
  {
   "cell_type": "code",
   "execution_count": 25,
   "metadata": {},
   "outputs": [
    {
     "name": "stdout",
     "output_type": "stream",
     "text": [
      "variable inicial: Hola Mundo\n",
      "La M de Mundo está en posición: 5\n"
     ]
    }
   ],
   "source": [
    "texto = 'Hola Mundo'\n",
    "print('variable inicial:', texto)\n",
    "print('La M de Mundo está en posición:', texto.index('Mundo'))"
   ]
  },
  {
   "cell_type": "markdown",
   "metadata": {},
   "source": [
    "#### 8. Dado el string `texto = \"Hola Mundo\"`, comprueba si empieza con \"Hola\"."
   ]
  },
  {
   "cell_type": "code",
   "execution_count": 27,
   "metadata": {},
   "outputs": [
    {
     "name": "stdout",
     "output_type": "stream",
     "text": [
      "variable inicial: Hola Mundo\n",
      "¿empieza este string por Hola? True\n"
     ]
    }
   ],
   "source": [
    "texto = 'Hola Mundo'\n",
    "print('variable inicial:', texto)\n",
    "print('¿empieza este string por Hola?', texto.startswith('Hola'))"
   ]
  },
  {
   "cell_type": "markdown",
   "metadata": {},
   "source": [
    "#### 9. Dado el string `texto = \"Hola Mundo\"`, comprueba si termina con \"Mundo\"."
   ]
  },
  {
   "cell_type": "code",
   "execution_count": 30,
   "metadata": {},
   "outputs": [
    {
     "name": "stdout",
     "output_type": "stream",
     "text": [
      "variable inicial: Hola Mundo\n",
      "¿termina este string con Mundo? True\n"
     ]
    }
   ],
   "source": [
    "texto = 'Hola Mundo'\n",
    "print('variable inicial:', texto)\n",
    "print('¿termina este string con Mundo?', texto.endswith('Mundo'))"
   ]
  },
  {
   "cell_type": "markdown",
   "metadata": {},
   "source": [
    "#### 10. Dado el string `texto = \"12345\"`, comprueba si todos los caracteres son dígitos."
   ]
  },
  {
   "cell_type": "code",
   "execution_count": 31,
   "metadata": {},
   "outputs": [
    {
     "name": "stdout",
     "output_type": "stream",
     "text": [
      "variable inicial: 12345\n",
      "¿son dígitos todos los caracteres? True\n"
     ]
    }
   ],
   "source": [
    "texto3 = '12345'\n",
    "print('variable inicial:', texto3)\n",
    "print('¿son dígitos todos los caracteres?', texto3.isdigit())"
   ]
  },
  {
   "cell_type": "markdown",
   "metadata": {},
   "source": [
    "#### 11. Dado el string `texto = \"Hola Mundo Hola\"`, cuenta cuántas veces aparece \"Hola\"."
   ]
  },
  {
   "cell_type": "code",
   "execution_count": 41,
   "metadata": {},
   "outputs": [
    {
     "name": "stdout",
     "output_type": "stream",
     "text": [
      "variable inicial: Hola Mundo Hola\n",
      "Separamos la variable inicial en una lista con 3 elementos: ['Hola', 'Mundo', 'Hola']\n",
      "¿Cuántas veces aparece la palabra Hola?: 2\n"
     ]
    }
   ],
   "source": [
    "texto4 = 'Hola Mundo Hola'\n",
    "print('variable inicial:', texto4)\n",
    "lista = texto4.split(' ')\n",
    "print('Separamos la variable inicial en una lista con 3 elementos:', lista)\n",
    "print('¿Cuántas veces aparece la palabra Hola?:', lista.count('Hola'))"
   ]
  },
  {
   "cell_type": "markdown",
   "metadata": {},
   "source": [
    "#### 12. Dado el string `texto = \"hola mundo\"`, capitaliza la primera letra."
   ]
  },
  {
   "cell_type": "code",
   "execution_count": 44,
   "metadata": {},
   "outputs": [
    {
     "name": "stdout",
     "output_type": "stream",
     "text": [
      "variable inicial: hola mundo\n",
      "Capitalizamos la primera letra: Hola mundo\n"
     ]
    }
   ],
   "source": [
    "texto5 = 'hola mundo'\n",
    "print('variable inicial:', texto5)\n",
    "print('Capitalizamos la primera letra:', texto5.capitalize())"
   ]
  },
  {
   "cell_type": "markdown",
   "metadata": {},
   "source": [
    "#### 13. Dado el string `texto = \"hola mundo\"`, pon en mayúscula la primera letra de cada palabra."
   ]
  },
  {
   "cell_type": "code",
   "execution_count": 46,
   "metadata": {},
   "outputs": [
    {
     "name": "stdout",
     "output_type": "stream",
     "text": [
      "variable inicial: hola mundo\n",
      "Ponemos en mayúscula la primera letra de cada palabra: Hola Mundo\n"
     ]
    }
   ],
   "source": [
    "texto5 = 'hola mundo'\n",
    "print('variable inicial:', texto5)\n",
    "print('Ponemos en mayúscula la primera letra de cada palabra:', texto5.title())"
   ]
  },
  {
   "cell_type": "markdown",
   "metadata": {},
   "source": [
    "#### 14. Dado el string `texto = \"HolaMundo\"`, comprueba si todos los caracteres son letras."
   ]
  },
  {
   "cell_type": "code",
   "execution_count": 49,
   "metadata": {},
   "outputs": [
    {
     "name": "stdout",
     "output_type": "stream",
     "text": [
      "variable inicial: HolaMundo\n",
      "¿Son letras todos los caracteres?: True\n"
     ]
    }
   ],
   "source": [
    "texto6 = 'HolaMundo'\n",
    "print('variable inicial:', texto6)\n",
    "print('¿Son letras todos los caracteres?:', texto6.isalnum())"
   ]
  },
  {
   "cell_type": "markdown",
   "metadata": {},
   "source": [
    "#### 15. Dado el string `texto = \"Hola Mundo\"`, invierte el caso de cada letra."
   ]
  },
  {
   "cell_type": "code",
   "execution_count": 51,
   "metadata": {},
   "outputs": [
    {
     "name": "stdout",
     "output_type": "stream",
     "text": [
      "variable inicial: Hola Mundo\n",
      "Invertimos el caso de cada letra: hOLA mUNDO\n"
     ]
    }
   ],
   "source": [
    "texto = 'Hola Mundo'\n",
    "print('variable inicial:', texto)\n",
    "print('Invertimos el caso de cada letra:', texto.swapcase())"
   ]
  }
 ],
 "metadata": {
  "kernelspec": {
   "display_name": "Python 3",
   "language": "python",
   "name": "python3"
  },
  "language_info": {
   "codemirror_mode": {
    "name": "ipython",
    "version": 3
   },
   "file_extension": ".py",
   "mimetype": "text/x-python",
   "name": "python",
   "nbconvert_exporter": "python",
   "pygments_lexer": "ipython3",
   "version": "3.9.6"
  }
 },
 "nbformat": 4,
 "nbformat_minor": 2
}
