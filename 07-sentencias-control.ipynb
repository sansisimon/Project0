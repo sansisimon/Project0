{
 "cells": [
  {
   "cell_type": "markdown",
   "metadata": {},
   "source": [
    "<div style=\"text-align: center;\">\n",
    "  <img src=\"https://github.com/Hack-io-Data/Imagenes/blob/main/01-LogosHackio/logo_celeste@4x.png?raw=true\" alt=\"logo hack(io)\" />\n",
    "</div>"
   ]
  },
  {
   "cell_type": "markdown",
   "metadata": {},
   "source": [
    "#### 1. Escribe un programa que determine si un número es par o impar.\n",
    "\n"
   ]
  },
  {
   "cell_type": "code",
   "execution_count": 107,
   "metadata": {},
   "outputs": [
    {
     "name": "stdout",
     "output_type": "stream",
     "text": [
      "el número insertado ha sido: 2567\n",
      "el número es impar\n"
     ]
    }
   ],
   "source": [
    "numero = int(input('inserte un número entero:'))\n",
    "print('el número insertado ha sido:', numero)\n",
    "\n",
    "if numero % 2 == 0:\n",
    "    print('el número es par')\n",
    "else:\n",
    "    print('el número es impar')\n"
   ]
  },
  {
   "cell_type": "markdown",
   "metadata": {},
   "source": [
    "#### 2. Genera un programa que nos diga si es de noche, de día o tarde según la hora proporcionada por el usuario."
   ]
  },
  {
   "cell_type": "code",
   "execution_count": 14,
   "metadata": {},
   "outputs": [
    {
     "name": "stdout",
     "output_type": "stream",
     "text": [
      "la hora específica del día insertada ha sido: -5\n",
      "número insertado no válido\n"
     ]
    }
   ],
   "source": [
    "#dia: de 8h (incluida) a 17h\n",
    "#tarde: de 17h (incluida) a 21h\n",
    "#noche: de 21h (incluida) a 8h\n",
    "\n",
    "hora = int(input('inserte una hora específica del día (de 0h a 24h, en número entero):'))\n",
    "print('la hora específica del día insertada ha sido:', hora)\n",
    "\n",
    "if 0 <= hora < 8:\n",
    "    print ('es de noche')\n",
    "elif 8 <= hora < 16:\n",
    "    print ('es de día')\n",
    "elif 16 <= hora < 21:\n",
    "    print ('es por la tarde')\n",
    "elif 21 <= hora <= 23:\n",
    "    print ('es de noche')\n",
    "elif hora < 24:\n",
    "    print('número insertado no válido')\n",
    "else:\n",
    "    print('número insertado no válido')\n"
   ]
  },
  {
   "cell_type": "markdown",
   "metadata": {},
   "source": [
    "#### 3. Dado un nombre imprime un saludo personalizado."
   ]
  },
  {
   "cell_type": "code",
   "execution_count": 37,
   "metadata": {},
   "outputs": [
    {
     "name": "stdout",
     "output_type": "stream",
     "text": [
      "el nombre insertado ha sido: Sandra\n",
      "Hola Sandra !, bienvenidx a mi blog\n"
     ]
    }
   ],
   "source": [
    "nombre = input('inserte un nombre:')\n",
    "print('el nombre insertado ha sido:', nombre)\n",
    "\n",
    "if nombre.isdigit() != True:\n",
    "    print(f'Hola {nombre} !, bienvenidx a mi blog')\n",
    "else:\n",
    "    print('¡Vaya! parece que has insertado un nombre no válido')"
   ]
  },
  {
   "cell_type": "markdown",
   "metadata": {},
   "source": [
    "#### 4. Escribe un programa que determine qué calificación en texto tiene un alumno en base a su calificación numérica. Las reglas de calificación son: \n",
    "\n",
    "- 0 - 69 insuficiente\n",
    "\n",
    "- 70 - 79 bien\n",
    "\n",
    "- 80 - 89 muy bien\n",
    "\n",
    "- 90 - 100 excelente\n"
   ]
  },
  {
   "cell_type": "code",
   "execution_count": 45,
   "metadata": {},
   "outputs": [
    {
     "name": "stdout",
     "output_type": "stream",
     "text": [
      "la calificación numérica del alumno insertada ha sido: 90\n",
      "la calificación del alumo es \"excelente\"\n"
     ]
    }
   ],
   "source": [
    "calificación = int(input('inserte la calificación numérica del alumno (del 0 al 100):'))\n",
    "print('la calificación numérica del alumno insertada ha sido:', calificación)\n",
    "\n",
    "if 0<= calificación <=69:\n",
    "    print('la calificación del alumo es \"insuficiente\"')\n",
    "elif 70<= calificación <=79:\n",
    "    print('la calificación del alumo es \"bien\"')\n",
    "elif 80<= calificación <=89:\n",
    "    print('la calificación del alumo es \"muy bien\"')\n",
    "elif 90<= calificación <=100:\n",
    "    print('la calificación del alumo es \"excelente\"')\n",
    "else:\n",
    "    print('¡Vaya¡ Parece que ha insertado una calificación no válida')"
   ]
  },
  {
   "cell_type": "markdown",
   "metadata": {},
   "source": [
    "#### 5. Escribe un programa que imprima el día de la semana, dado un número del 1 al 7.\n"
   ]
  },
  {
   "cell_type": "code",
   "execution_count": 48,
   "metadata": {},
   "outputs": [
    {
     "name": "stdout",
     "output_type": "stream",
     "text": [
      "el número insertado ha sido: 4\n",
      "¡jueves!\n"
     ]
    }
   ],
   "source": [
    "numero_dia = int(input('inserte un número del 1 al 7 para obtener el día de la semana:'))\n",
    "print('el número insertado ha sido:', numero_dia)\n",
    "\n",
    "if numero_dia == 1:\n",
    "    print('¡lunes!')\n",
    "elif numero_dia == 2:\n",
    "    print('¡martes!')\n",
    "elif numero_dia == 3:\n",
    "    print('¡miércoles!')\n",
    "elif numero_dia == 4:\n",
    "    print('¡jueves!')\n",
    "elif numero_dia == 5:\n",
    "    print('¡viernes!')\n",
    "elif numero_dia == 6:\n",
    "    print('¡sábado!')\n",
    "elif numero_dia == 7:\n",
    "    print('¡domingo!')\n",
    "else:\n",
    "    print('¡Ops! has insertado un número no válido...')"
   ]
  },
  {
   "cell_type": "markdown",
   "metadata": {},
   "source": [
    "#### 6. Escribe un programa que determine si un número es positivo, negativo o cero."
   ]
  },
  {
   "cell_type": "code",
   "execution_count": 58,
   "metadata": {},
   "outputs": [
    {
     "name": "stdout",
     "output_type": "stream",
     "text": [
      "el número insertado ha sido: 345\n",
      "el número es \"positivo\"\n"
     ]
    }
   ],
   "source": [
    "numero2 = int(input('inserte un número entero:'))\n",
    "print('el número insertado ha sido:', numero2)\n",
    "\n",
    "if numero2 == 0:\n",
    "    print('el número es \"cero\"')\n",
    "elif numero2 > 0:\n",
    "    print('el número es \"positivo\"')\n",
    "else:\n",
    "    print('el número es \"negativo\"')"
   ]
  },
  {
   "cell_type": "markdown",
   "metadata": {},
   "source": [
    "#### 7. Escribe un programa que determine si una persona puede conducir o no. La edad mínima para conducir es 18 años. \n"
   ]
  },
  {
   "cell_type": "code",
   "execution_count": 5,
   "metadata": {},
   "outputs": [
    {
     "name": "stdout",
     "output_type": "stream",
     "text": [
      "la edad insertada ha sido: 154\n",
      "¡Ops! parece que la edad insertada no es válida\n"
     ]
    }
   ],
   "source": [
    "edad = int(input('inserta tu edad para saber si puedes conducir:'))\n",
    "print('la edad insertada ha sido:', edad)\n",
    "\n",
    "if 18 <= edad <= 70:\n",
    "    print('Enhorabuena, puedes conducir!')\n",
    "elif 0 <= edad < 18:\n",
    "    print('¡Lo sentimos! La ley no te permite conducir...')\n",
    "elif 70 < edad <= 80:\n",
    "    print('¡Puedes conducir! Recuerda tener validado el psicotécnico...')\n",
    "elif 80 < edad <= 140 :\n",
    "    print('¡Puedes conducir! Aunque tus nietos preferirán que no lo hagas...')\n",
    "elif edad > 140 :\n",
    "    print('¡Ops! parece que la edad insertada no es válida')\n",
    "else:\n",
    "    print('¡Ops! parece que la edad insertada no es válida')"
   ]
  },
  {
   "cell_type": "markdown",
   "metadata": {},
   "source": [
    "#### 8. Escribe un programa que determine si un estudiante aprobó o suspendió un examen."
   ]
  },
  {
   "cell_type": "code",
   "execution_count": 90,
   "metadata": {},
   "outputs": [
    {
     "name": "stdout",
     "output_type": "stream",
     "text": [
      "la nota insertada ha sido: 10\n",
      "¡Enhorabuena! has aprobado.\n"
     ]
    }
   ],
   "source": [
    "nota_examen = int(input('inserta la nota del examen (expresada en números enteros):'))\n",
    "print('la nota insertada ha sido:', nota_examen)\n",
    "\n",
    "if 0 <= nota_examen < 5:\n",
    "    print('Lo sentimos, estás suspenso...')\n",
    "elif 5 <= nota_examen <= 10:\n",
    "    print('¡Enhorabuena! has aprobado.')\n",
    "else:\n",
    "    print('Vaya! parece que la nota insertada no es válida')"
   ]
  },
  {
   "cell_type": "markdown",
   "metadata": {},
   "source": [
    "#### 9. Escribe un programa que determine si un número es múltiplo de 3 y 5.\n"
   ]
  },
  {
   "cell_type": "code",
   "execution_count": 105,
   "metadata": {},
   "outputs": [
    {
     "name": "stdout",
     "output_type": "stream",
     "text": [
      "El número insertado ha sido: 35\n",
      "El número insertado es múltiplo de 5\n"
     ]
    }
   ],
   "source": [
    "numero_multiplo = int(input('inserta un número del tipo entero):'))\n",
    "print('El número insertado ha sido:', numero_multiplo)\n",
    "\n",
    "if numero_multiplo == 0:\n",
    "    print('El número insertado es múltiplo de 3 y de 5')\n",
    "elif numero_multiplo% 3 == 0:\n",
    "    print('El número insertado es múltiplo de 3')\n",
    "elif numero_multiplo % 5 == 0:\n",
    "    print('El número insertado es múltiplo de 5')\n",
    "else:\n",
    "    print('El número insertado no es múltiplo ni de 3, ni de 5')"
   ]
  },
  {
   "cell_type": "markdown",
   "metadata": {},
   "source": [
    "#### 10. Escribe un programa que determine si un número es par o impar.\n"
   ]
  },
  {
   "cell_type": "code",
   "execution_count": 109,
   "metadata": {},
   "outputs": [
    {
     "name": "stdout",
     "output_type": "stream",
     "text": [
      "el número insertado ha sido: -123\n",
      "el número es impar\n"
     ]
    }
   ],
   "source": [
    "numero = int(input('inserte un número entero:'))\n",
    "print('el número insertado ha sido:', numero)\n",
    "\n",
    "if numero % 2 == 0:\n",
    "    print('el número es par')\n",
    "else:\n",
    "    print('el número es impar')"
   ]
  }
 ],
 "metadata": {
  "kernelspec": {
   "display_name": "Python 3",
   "language": "python",
   "name": "python3"
  },
  "language_info": {
   "codemirror_mode": {
    "name": "ipython",
    "version": 3
   },
   "file_extension": ".py",
   "mimetype": "text/x-python",
   "name": "python",
   "nbconvert_exporter": "python",
   "pygments_lexer": "ipython3",
   "version": "3.9.6"
  }
 },
 "nbformat": 4,
 "nbformat_minor": 2
}
