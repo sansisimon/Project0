{
 "cells": [
  {
   "cell_type": "markdown",
   "metadata": {},
   "source": [
    "<div style=\"text-align: center;\">\n",
    "  <img src=\"https://github.com/Hack-io-Data/Imagenes/blob/main/01-LogosHackio/logo_celeste@4x.png?raw=true\" alt=\"logo hack(io)\" />\n",
    "</div>"
   ]
  },
  {
   "cell_type": "markdown",
   "metadata": {},
   "source": [
    "## Tipos de datos\n",
    "\n",
    "Es esencial comprender los distintos tipos de datos en Python, como enteros, flotantes, cadenas de texto, booleanos, listas, tuplas y diccionarios. Este conocimiento es fundamental para el diseño de algoritmos, ya que los tipos de datos determinan cómo se almacenan y procesan los datos en la memoria.\n",
    "\n",
    "En esta batería de ejercicios, exploraremos los tipos de datos en Python y cómo utilizarlos eficientemente. Desde los conceptos básicos hasta los más avanzados, esta serie de ejercicios está diseñada para mejorar las habilidades de programación en Python y profundizar la comprensión de los tipos de datos, esencial para desarrollar aplicaciones de calidad y eficientes."
   ]
  },
  {
   "cell_type": "markdown",
   "metadata": {},
   "source": [
    "### Ejercicio 1: Operaciones aritméticas con números complejos\n",
    "\n",
    "1-Declara dos variables `numero1` y `numero2` y asigna a ellas valores numéricos complejos.\n",
    "\n",
    "2-Realiza las siguientes operaciones: suma, resta, multiplicación y división.\n",
    "\n",
    "3-Imprime en pantalla el resultado de cada operación utilizando la función `print()`."
   ]
  },
  {
   "cell_type": "code",
   "execution_count": 50,
   "metadata": {},
   "outputs": [],
   "source": [
    "numero1 = 0 + 3j\n",
    "numero2 = 18 + 2j"
   ]
  },
  {
   "cell_type": "code",
   "execution_count": 51,
   "metadata": {},
   "outputs": [
    {
     "name": "stdout",
     "output_type": "stream",
     "text": [
      "(18+5j)\n"
     ]
    }
   ],
   "source": [
    "#operación 1, suma:\n",
    "suma_num_complex = numero1 + numero2\n",
    "print(suma_num_complex)"
   ]
  },
  {
   "cell_type": "code",
   "execution_count": 52,
   "metadata": {},
   "outputs": [
    {
     "name": "stdout",
     "output_type": "stream",
     "text": [
      "(-18+1j)\n"
     ]
    }
   ],
   "source": [
    "#operación 2, resta:\n",
    "resta_num_complex = numero1 - numero2\n",
    "print(resta_num_complex)"
   ]
  },
  {
   "cell_type": "code",
   "execution_count": 53,
   "metadata": {},
   "outputs": [
    {
     "name": "stdout",
     "output_type": "stream",
     "text": [
      "(-6+54j)\n"
     ]
    }
   ],
   "source": [
    "#operación 3, multiplicación:\n",
    "multiplicacion_num_complex = numero1 * numero2\n",
    "print(multiplicacion_num_complex)"
   ]
  },
  {
   "cell_type": "code",
   "execution_count": 54,
   "metadata": {},
   "outputs": [
    {
     "name": "stdout",
     "output_type": "stream",
     "text": [
      "(0.018292682926829267+0.16463414634146342j)\n"
     ]
    }
   ],
   "source": [
    "#operación 4, división:\n",
    "division_num_complex = numero1 / numero2\n",
    "print(division_num_complex)"
   ]
  },
  {
   "cell_type": "markdown",
   "metadata": {},
   "source": [
    "### Ejercicio 2: Formateo de cadenas de texto\n",
    "\n",
    "1-Declara una variable `nombre` y asigna a ella el valor 'Juan'.\n",
    "\n",
    "2-Declara una variable `edad` y asigna a ella el valor 25.\n",
    "\n",
    "3- Declara una variable llamada `peso` y asigna a ella el valor 75.5.\n",
    "\n",
    "4-Declara una variable llamada `altura` y asigna a ella el valor 1.75.\n",
    "\n",
    "5-Imprime en pantalla el valor de cada variable utilizando la función print().\n",
    "\n",
    "6-Utiliza el formateo de cadenas de texto para imprimir en pantalla un mensaje que diga: `Hola me llamo Juan, tengo 25 años, peso 75.5 kg y mido 1.75 m`."
   ]
  },
  {
   "cell_type": "code",
   "execution_count": 14,
   "metadata": {},
   "outputs": [],
   "source": [
    "#1-Declara ·una variable `nombre` y asigna a ella el valor 'Juan'.\n",
    "nombre = 'Juan'\n",
    "#2-Declara una variable `edad` y asigna a ella el valor 25.\n",
    "edad = 25\n",
    "#3- Declara una variable llamada `peso` y asigna a ella el valor 75.5.\n",
    "peso = 75.5\n",
    "#4-Declara una variable llamada `altura` y asigna a ella el valor 1.75.\n",
    "altura = 1.75"
   ]
  },
  {
   "cell_type": "code",
   "execution_count": 17,
   "metadata": {},
   "outputs": [
    {
     "name": "stdout",
     "output_type": "stream",
     "text": [
      "nombre: Juan\n",
      "edad: 25\n",
      "peso: 75.5\n",
      "altura: 1.75\n"
     ]
    }
   ],
   "source": [
    "#5-Imprime en pantalla el valor de cada variable utilizando la función print().\n",
    "print('nombre:', nombre)\n",
    "print('edad:', edad)\n",
    "print('peso:', peso)\n",
    "print('altura:', altura)"
   ]
  },
  {
   "cell_type": "code",
   "execution_count": 19,
   "metadata": {},
   "outputs": [
    {
     "name": "stdout",
     "output_type": "stream",
     "text": [
      "Hola me llamo Juan, tengo 25 años, peso 75.5 kg y mido 1.75 m\n"
     ]
    }
   ],
   "source": [
    "#6-Utiliza el formateo de cadenas de texto para imprimir en pantalla un mensaje que diga: \n",
    "# `Hola me llamo Juan, tengo 25 años, peso 75.5 kg y mido 1.75 m`.\n",
    "print(f'Hola me llamo {nombre}, tengo {edad} años, peso {peso} kg y mido {altura} m')"
   ]
  },
  {
   "cell_type": "markdown",
   "metadata": {},
   "source": [
    "### Ejercicio 3: Conversión de cadenas de texto a números\n",
    "\n",
    "\n",
    "1-Declara una variable `cadena` y asigna a ella el valor '10'.\n",
    "\n",
    "2-Utiliza la función type() para obtener el tipo de dato de `cadena` y asigna el resultado a una variable llamada `tipo`.\n",
    "\n",
    "3- Imprime en pantalla el valor de `tipo` utilizando la función print().\n",
    "\n",
    "4-Convierte el valor de `cadena` a entero y asigna el resultado a una variable llamada `numero`.\n",
    "\n",
    "5-Realiza la operación de incremento en `numero` y asigna el resultado a la misma variable.\n"
   ]
  },
  {
   "cell_type": "code",
   "execution_count": 47,
   "metadata": {},
   "outputs": [
    {
     "name": "stdout",
     "output_type": "stream",
     "text": [
      "<class 'str'>\n"
     ]
    }
   ],
   "source": [
    "#1-Declara una variable `cadena` y asigna a ella el valor '10'.\n",
    "cadena = '10'\n",
    "\n",
    "#2-Utiliza la función type() para obtener el tipo de dato de `cadena` y asigna el resultado a una variable llamada `tipo`.\n",
    "tipo = type(cadena)\n",
    "\n",
    "#3- Imprime en pantalla el valor de `tipo` utilizando la función print().\n",
    "print(tipo)"
   ]
  },
  {
   "cell_type": "code",
   "execution_count": 48,
   "metadata": {},
   "outputs": [
    {
     "name": "stdout",
     "output_type": "stream",
     "text": [
      "<class 'int'>\n"
     ]
    }
   ],
   "source": [
    "#4-Convierte el valor de `cadena` a entero y asigna el resultado a una variable llamada `numero`.\n",
    "numero = int(cadena)\n",
    "print(type(numero))"
   ]
  },
  {
   "cell_type": "code",
   "execution_count": 49,
   "metadata": {},
   "outputs": [
    {
     "name": "stdout",
     "output_type": "stream",
     "text": [
      "numero se ha visto incrementado en su propio valor (+10), asignándose un valor nuevo a la variable:  20\n"
     ]
    }
   ],
   "source": [
    "#5-Realiza la operación de incremento en `numero` y asigna el resultado a la misma variable.\n",
    "numero += numero\n",
    "print('numero se ha visto incrementado en su propio valor (+10), asignándose un valor nuevo a la variable: ', numero)"
   ]
  },
  {
   "cell_type": "markdown",
   "metadata": {},
   "source": [
    "### Ejercicio 4: Uso de la función input()\n",
    "\n",
    "1-Utiliza la función input() para solicitar al usuario que ingrese un número.\n",
    "\n",
    "2-Asigna el valor ingresado por el usuario a una variable llamada `numero`.\n",
    "\n",
    "3-Realiza la operación de incremento en `numero` y asigna el resultado a la misma variable.\n",
    "\n",
    "4-Imprime en pantalla el valor de numero utilizando la función print()."
   ]
  },
  {
   "cell_type": "code",
   "execution_count": 75,
   "metadata": {},
   "outputs": [
    {
     "name": "stdout",
     "output_type": "stream",
     "text": [
      "Por favor, ingresa un número:  4\n"
     ]
    }
   ],
   "source": [
    "#1-Utiliza la función input() para solicitar al usuario que ingrese un número.\n",
    "#2-Asigna el valor ingresado por el usuario a una variable llamada `numero`.\n",
    "\n",
    "numero_input = input('Por favor, ingresa un número: ')\n",
    "print('Por favor, ingresa un número: ', numero_input)"
   ]
  },
  {
   "cell_type": "code",
   "execution_count": 76,
   "metadata": {},
   "outputs": [
    {
     "name": "stdout",
     "output_type": "stream",
     "text": [
      "<class 'int'>\n",
      "4\n"
     ]
    }
   ],
   "source": [
    "numero_input_int = int(numero_input)\n",
    "print(type(numero_input_int))\n",
    "print(numero_input_int)"
   ]
  },
  {
   "cell_type": "code",
   "execution_count": 77,
   "metadata": {},
   "outputs": [
    {
     "name": "stdout",
     "output_type": "stream",
     "text": [
      "8\n"
     ]
    }
   ],
   "source": [
    "#3-Realiza la operación de incremento en `numero` y asigna el resultado a la misma variable.\n",
    "numero_input_int += numero_input_int\n",
    "\n",
    "#4-Imprime en pantalla el valor de numero utilizando la función print().\n",
    "print(numero_input_int)"
   ]
  }
 ],
 "metadata": {
  "kernelspec": {
   "display_name": "Python 3",
   "language": "python",
   "name": "python3"
  },
  "language_info": {
   "codemirror_mode": {
    "name": "ipython",
    "version": 3
   },
   "file_extension": ".py",
   "mimetype": "text/x-python",
   "name": "python",
   "nbconvert_exporter": "python",
   "pygments_lexer": "ipython3",
   "version": "3.9.6"
  }
 },
 "nbformat": 4,
 "nbformat_minor": 2
}
